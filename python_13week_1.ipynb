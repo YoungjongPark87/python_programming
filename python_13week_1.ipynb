{
  "nbformat": 4,
  "nbformat_minor": 0,
  "metadata": {
    "colab": {
      "provenance": [],
      "authorship_tag": "ABX9TyMwt/pVGDnZLCq0GV+DjyLX",
      "include_colab_link": true
    },
    "kernelspec": {
      "name": "python3",
      "display_name": "Python 3"
    },
    "language_info": {
      "name": "python"
    }
  },
  "cells": [
    {
      "cell_type": "markdown",
      "metadata": {
        "id": "view-in-github",
        "colab_type": "text"
      },
      "source": [
        "<a href=\"https://colab.research.google.com/github/YoungjongPark87/python_programming/blob/master/python_13week_1.ipynb\" target=\"_parent\"><img src=\"https://colab.research.google.com/assets/colab-badge.svg\" alt=\"Open In Colab\"/></a>"
      ]
    },
    {
      "cell_type": "code",
      "execution_count": 2,
      "metadata": {
        "colab": {
          "base_uri": "https://localhost:8080/"
        },
        "id": "Qk-HbJhJCX_E",
        "outputId": "18b0add4-2fea-4c41-c6d1-d793cbc46414"
      },
      "outputs": [
        {
          "output_type": "stream",
          "name": "stdout",
          "text": [
            "Mounted at /content/drive\n"
          ]
        }
      ],
      "source": [
        "from google.colab import drive\n",
        "drive.mount('/content/drive')"
      ]
    },
    {
      "cell_type": "code",
      "source": [
        "import xml.etree.ElementTree as et\n",
        "\n",
        "tree = et.ElementTree(file='/content/drive/MyDrive/Colab Notebooks/menu.xml')\n",
        "root = tree.getroot()\n",
        "\n",
        "print(root.tag)"
      ],
      "metadata": {
        "colab": {
          "base_uri": "https://localhost:8080/"
        },
        "id": "LHWlj_MJEXim",
        "outputId": "a0335371-a6a8-450a-b366-594d8ecebece"
      },
      "execution_count": 3,
      "outputs": [
        {
          "output_type": "stream",
          "name": "stdout",
          "text": [
            "menu\n"
          ]
        }
      ]
    },
    {
      "cell_type": "code",
      "source": [
        "for child in root:\n",
        "  print('tag:', child.tag, 'attributes:', child.attrib)\n",
        "  for grandchild in child:\n",
        "    print('\\ttag:', grandchild.tag, 'attributes:', grandchild.attrib)"
      ],
      "metadata": {
        "colab": {
          "base_uri": "https://localhost:8080/"
        },
        "id": "32f6RqzeGOIz",
        "outputId": "bd179ff3-bae2-4ed2-bf0b-f60acc2d96f9"
      },
      "execution_count": 5,
      "outputs": [
        {
          "output_type": "stream",
          "name": "stdout",
          "text": [
            "tag: breakfast attributes: {'hours': '7-11'}\n",
            "\ttag: item attributes: {'price': '$6.00'}\n",
            "\ttag: item attributes: {'price': '$4.00'}\n",
            "tag: lunch attributes: {'hours': '11-3'}\n",
            "\ttag: item attributes: {'price': '$5.00'}\n",
            "tag: dinner attributes: {'hours': '3-10'}\n",
            "\ttag: item attributes: {'price': '8.00'}\n"
          ]
        }
      ]
    },
    {
      "cell_type": "code",
      "source": [
        "len(root)\n",
        "len(root[0])\n",
        "type(root[0])"
      ],
      "metadata": {
        "colab": {
          "base_uri": "https://localhost:8080/"
        },
        "id": "5_lhrxmgGuIu",
        "outputId": "aea56c16-6624-4873-fab0-dda5847fed18"
      },
      "execution_count": 8,
      "outputs": [
        {
          "output_type": "execute_result",
          "data": {
            "text/plain": [
              "xml.etree.ElementTree.Element"
            ]
          },
          "metadata": {},
          "execution_count": 8
        }
      ]
    },
    {
      "cell_type": "code",
      "source": [
        "print(root[0])\n",
        "print(root[0].get(\"hours\"))\n",
        "print(root[0].keys())\n",
        "print(root[0].items())\n"
      ],
      "metadata": {
        "colab": {
          "base_uri": "https://localhost:8080/"
        },
        "id": "gqSjdiVgG-mP",
        "outputId": "93f281a2-eb51-49a6-b61b-fe0ad94ced82"
      },
      "execution_count": 11,
      "outputs": [
        {
          "output_type": "stream",
          "name": "stdout",
          "text": [
            "<Element 'breakfast' at 0x783ed6e9c040>\n",
            "7-11\n",
            "['hours']\n",
            "[('hours', '7-11')]\n"
          ]
        }
      ]
    },
    {
      "cell_type": "code",
      "source": [
        "lunch = root.find(\"lunch\")\n",
        "print(lunch)\n",
        "print(lunch.get(\"hours\"))\n",
        "print(lunch.keys())\n",
        "print(lunch.items())\n"
      ],
      "metadata": {
        "colab": {
          "base_uri": "https://localhost:8080/"
        },
        "id": "N2YnHlPrHJlJ",
        "outputId": "1361adc4-e971-49ee-e1bd-085fd0916d54"
      },
      "execution_count": 13,
      "outputs": [
        {
          "output_type": "stream",
          "name": "stdout",
          "text": [
            "<Element 'lunch' at 0x783ed6137ce0>\n",
            "11-3\n",
            "['hours']\n",
            "[('hours', '11-3')]\n"
          ]
        }
      ]
    },
    {
      "cell_type": "code",
      "source": [
        "print(root[0].findall('item'))\n",
        "\n",
        "for item in root[0].findall('item'):\n",
        "  print(item.get('price'))\n",
        "  print(item.text)"
      ],
      "metadata": {
        "colab": {
          "base_uri": "https://localhost:8080/"
        },
        "id": "7pD7pecsHj5O",
        "outputId": "aa3dfbec-f279-4b37-9458-fdb9bb0ba9de"
      },
      "execution_count": 15,
      "outputs": [
        {
          "output_type": "stream",
          "name": "stdout",
          "text": [
            "[<Element 'item' at 0x783ed612aac0>, <Element 'item' at 0x783ed6137b00>]\n",
            "$6.00\n",
            "breakfast burritos\n",
            "$4.00\n",
            "pancakes\n"
          ]
        }
      ]
    },
    {
      "cell_type": "code",
      "source": [
        "import json\n",
        "j1 = {\"name\":\"홍길동\", \"birth\" : \"0525\", \"age\" : 30}\n",
        "j1\n",
        "json.dumps(j1)"
      ],
      "metadata": {
        "colab": {
          "base_uri": "https://localhost:8080/",
          "height": 36
        },
        "id": "sy-myVD5Ia9u",
        "outputId": "06dedbb7-3f0f-438b-936e-8d98ebb93a42"
      },
      "execution_count": 18,
      "outputs": [
        {
          "output_type": "execute_result",
          "data": {
            "text/plain": [
              "'{\"name\": \"\\\\ud64d\\\\uae38\\\\ub3d9\", \"birth\": \"0525\", \"age\": 30}'"
            ],
            "application/vnd.google.colaboratory.intrinsic+json": {
              "type": "string"
            }
          },
          "metadata": {},
          "execution_count": 18
        }
      ]
    },
    {
      "cell_type": "code",
      "source": [
        "print(json.dumps(j1, indent=2))"
      ],
      "metadata": {
        "colab": {
          "base_uri": "https://localhost:8080/"
        },
        "id": "H0AgpBQ7Is8_",
        "outputId": "790bebc6-d272-4f69-bfa8-142b985638c0"
      },
      "execution_count": 20,
      "outputs": [
        {
          "output_type": "stream",
          "name": "stdout",
          "text": [
            "{\n",
            "  \"name\": \"\\ud64d\\uae38\\ub3d9\",\n",
            "  \"birth\": \"0525\",\n",
            "  \"age\": 30\n",
            "}\n"
          ]
        }
      ]
    },
    {
      "cell_type": "code",
      "source": [
        "j1 = {\"name\":\"홍길동\", \"birth\" : \"0525\", \"age\" : 30}\n",
        "d1 = json.dumps(j1)\n",
        "json.loads(d1)"
      ],
      "metadata": {
        "colab": {
          "base_uri": "https://localhost:8080/"
        },
        "id": "MokSckHbJFG5",
        "outputId": "2fc88376-0c38-4230-9d6a-d69a80ad0f28"
      },
      "execution_count": 21,
      "outputs": [
        {
          "output_type": "execute_result",
          "data": {
            "text/plain": [
              "{'name': '홍길동', 'birth': '0525', 'age': 30}"
            ]
          },
          "metadata": {},
          "execution_count": 21
        }
      ]
    },
    {
      "cell_type": "code",
      "source": [
        "from urllib.request import urlopen\n",
        "from bs4 import BeautifulSoup\n",
        "\n",
        "html = urlopen(\"https://example.com\")\n",
        "print(html.read())\n",
        "bsObj = BeautifulSoup(html.read(), \"html.parser\")\n",
        "print(bsObj.h1)"
      ],
      "metadata": {
        "colab": {
          "base_uri": "https://localhost:8080/"
        },
        "id": "pfjv846CJT7d",
        "outputId": "99a24db2-4039-4d25-ea2d-90e6e17d71aa"
      },
      "execution_count": 27,
      "outputs": [
        {
          "output_type": "stream",
          "name": "stdout",
          "text": [
            "b'<!doctype html>\\n<html>\\n<head>\\n    <title>Example Domain</title>\\n\\n    <meta charset=\"utf-8\" />\\n    <meta http-equiv=\"Content-type\" content=\"text/html; charset=utf-8\" />\\n    <meta name=\"viewport\" content=\"width=device-width, initial-scale=1\" />\\n    <style type=\"text/css\">\\n    body {\\n        background-color: #f0f0f2;\\n        margin: 0;\\n        padding: 0;\\n        font-family: -apple-system, system-ui, BlinkMacSystemFont, \"Segoe UI\", \"Open Sans\", \"Helvetica Neue\", Helvetica, Arial, sans-serif;\\n        \\n    }\\n    div {\\n        width: 600px;\\n        margin: 5em auto;\\n        padding: 2em;\\n        background-color: #fdfdff;\\n        border-radius: 0.5em;\\n        box-shadow: 2px 3px 7px 2px rgba(0,0,0,0.02);\\n    }\\n    a:link, a:visited {\\n        color: #38488f;\\n        text-decoration: none;\\n    }\\n    @media (max-width: 700px) {\\n        div {\\n            margin: 0 auto;\\n            width: auto;\\n        }\\n    }\\n    </style>    \\n</head>\\n\\n<body>\\n<div>\\n    <h1>Example Domain</h1>\\n    <p>This domain is for use in illustrative examples in documents. You may use this\\n    domain in literature without prior coordination or asking for permission.</p>\\n    <p><a href=\"https://www.iana.org/domains/example\">More information...</a></p>\\n</div>\\n</body>\\n</html>\\n'\n",
            "None\n"
          ]
        }
      ]
    },
    {
      "cell_type": "code",
      "source": [],
      "metadata": {
        "id": "Qzt15OtvJr_y"
      },
      "execution_count": null,
      "outputs": []
    }
  ]
}
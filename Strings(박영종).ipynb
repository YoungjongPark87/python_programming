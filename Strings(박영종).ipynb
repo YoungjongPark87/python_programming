{
  "cells": [
    {
      "cell_type": "markdown",
      "metadata": {
        "id": "view-in-github",
        "colab_type": "text"
      },
      "source": [
        "<a href=\"https://colab.research.google.com/github/YoungjongPark87/python_programming/blob/master/Strings(%EB%B0%95%EC%98%81%EC%A2%85).ipynb\" target=\"_parent\"><img src=\"https://colab.research.google.com/assets/colab-badge.svg\" alt=\"Open In Colab\"/></a>"
      ]
    },
    {
      "cell_type": "markdown",
      "metadata": {
        "id": "aJtdELew_Lo0"
      },
      "source": [
        "<h1>String Operations</h1>"
      ]
    },
    {
      "cell_type": "markdown",
      "metadata": {
        "id": "FeUvekd1_Lo0"
      },
      "source": [
        "<p><strong>Welcome!</strong> This notebook will teach you about the string operations in the Python Programming Language. By the end of this notebook, you'll know the basics string operations in Python, including indexing, escape sequences and operations.</p>"
      ]
    },
    {
      "cell_type": "markdown",
      "metadata": {
        "id": "71qUvVXh_Lo1"
      },
      "source": [
        "<h2 id=\"strings\">What are Strings?</h2>"
      ]
    },
    {
      "cell_type": "markdown",
      "metadata": {
        "id": "dJGxpTzN_Lo1"
      },
      "source": [
        "The following example shows a string contained within 2 quotation marks:"
      ]
    },
    {
      "cell_type": "code",
      "execution_count": 1,
      "metadata": {
        "id": "KMSSn6QP_Lo1",
        "colab": {
          "base_uri": "https://localhost:8080/",
          "height": 36
        },
        "outputId": "2db75768-b535-4187-c1f4-431917c267ff"
      },
      "outputs": [
        {
          "output_type": "execute_result",
          "data": {
            "text/plain": [
              "'Michael Jackson'"
            ],
            "application/vnd.google.colaboratory.intrinsic+json": {
              "type": "string"
            }
          },
          "metadata": {},
          "execution_count": 1
        }
      ],
      "source": [
        "# Use quotation marks for defining string\n",
        "\n",
        "\"Michael Jackson\" #\"\" ''"
      ]
    },
    {
      "cell_type": "markdown",
      "metadata": {
        "id": "P7n-0-ht_Lo2"
      },
      "source": [
        "We can also use single quotation marks:"
      ]
    },
    {
      "cell_type": "code",
      "execution_count": 2,
      "metadata": {
        "id": "OSKcp8rg_Lo2",
        "colab": {
          "base_uri": "https://localhost:8080/",
          "height": 36
        },
        "outputId": "c92cade4-b119-4d47-dfbd-c6c6e6ddda5f"
      },
      "outputs": [
        {
          "output_type": "execute_result",
          "data": {
            "text/plain": [
              "'Michael Jackson'"
            ],
            "application/vnd.google.colaboratory.intrinsic+json": {
              "type": "string"
            }
          },
          "metadata": {},
          "execution_count": 2
        }
      ],
      "source": [
        "# Use single quotation marks for defining string\n",
        "\n",
        "'Michael Jackson'"
      ]
    },
    {
      "cell_type": "markdown",
      "metadata": {
        "id": "T7e21Khv_Lo2"
      },
      "source": [
        "A string can be a combination of spaces and digits:"
      ]
    },
    {
      "cell_type": "code",
      "execution_count": 3,
      "metadata": {
        "id": "vY2c7pAq_Lo2",
        "colab": {
          "base_uri": "https://localhost:8080/",
          "height": 36
        },
        "outputId": "b350ac58-254d-499c-af3d-e7cb72ba9dbc"
      },
      "outputs": [
        {
          "output_type": "execute_result",
          "data": {
            "text/plain": [
              "'1 2 3 4 5 6 '"
            ],
            "application/vnd.google.colaboratory.intrinsic+json": {
              "type": "string"
            }
          },
          "metadata": {},
          "execution_count": 3
        }
      ],
      "source": [
        "# Digitals and spaces in string\n",
        "\n",
        "'1 2 3 4 5 6 '"
      ]
    },
    {
      "cell_type": "code",
      "source": [
        "'123456'"
      ],
      "metadata": {
        "colab": {
          "base_uri": "https://localhost:8080/",
          "height": 36
        },
        "id": "tHoYastyozzl",
        "outputId": "be077190-2baf-4b52-c34e-dcc5595e3a9e"
      },
      "execution_count": 4,
      "outputs": [
        {
          "output_type": "execute_result",
          "data": {
            "text/plain": [
              "'123456'"
            ],
            "application/vnd.google.colaboratory.intrinsic+json": {
              "type": "string"
            }
          },
          "metadata": {},
          "execution_count": 4
        }
      ]
    },
    {
      "cell_type": "markdown",
      "metadata": {
        "id": "6i5iOrEh_Lo2"
      },
      "source": [
        "A string can also be a combination of special characters :"
      ]
    },
    {
      "cell_type": "code",
      "execution_count": 5,
      "metadata": {
        "id": "6LwujpRS_Lo2",
        "colab": {
          "base_uri": "https://localhost:8080/",
          "height": 36
        },
        "outputId": "b23b7bbd-c0e9-4807-c829-4e726f0f9523"
      },
      "outputs": [
        {
          "output_type": "execute_result",
          "data": {
            "text/plain": [
              "'@#2_#]&*^%$'"
            ],
            "application/vnd.google.colaboratory.intrinsic+json": {
              "type": "string"
            }
          },
          "metadata": {},
          "execution_count": 5
        }
      ],
      "source": [
        "# Special characters in string\n",
        "\n",
        "'@#2_#]&*^%$'"
      ]
    },
    {
      "cell_type": "markdown",
      "metadata": {
        "id": "TCrOipej_Lo3"
      },
      "source": [
        "We can print our string using the print statement:"
      ]
    },
    {
      "cell_type": "code",
      "execution_count": 6,
      "metadata": {
        "id": "yC3ll8ye_Lo3",
        "colab": {
          "base_uri": "https://localhost:8080/"
        },
        "outputId": "08f234be-8bf9-476a-f352-6a6a4095534a"
      },
      "outputs": [
        {
          "output_type": "stream",
          "name": "stdout",
          "text": [
            "hello!\n"
          ]
        }
      ],
      "source": [
        "# Print the string\n",
        "\n",
        "print(\"hello!\")"
      ]
    },
    {
      "cell_type": "markdown",
      "metadata": {
        "id": "9xWhYCW5_Lo3"
      },
      "source": [
        "We can bind or assign a string to another variable:\n"
      ]
    },
    {
      "cell_type": "code",
      "execution_count": 7,
      "metadata": {
        "id": "fI54RY3z_Lo3",
        "colab": {
          "base_uri": "https://localhost:8080/",
          "height": 36
        },
        "outputId": "8bb0ea9c-585f-4917-ea5e-5f16dec8d5e0"
      },
      "outputs": [
        {
          "output_type": "execute_result",
          "data": {
            "text/plain": [
              "'Michael Jackson'"
            ],
            "application/vnd.google.colaboratory.intrinsic+json": {
              "type": "string"
            }
          },
          "metadata": {},
          "execution_count": 7
        }
      ],
      "source": [
        "# Assign string to variable\n",
        "\n",
        "Name = \"Michael Jackson\"\n",
        "Name"
      ]
    },
    {
      "cell_type": "code",
      "source": [
        "# bind two strings to one variable\n",
        "\n",
        "Age = \" 35\" #문자열 \"\"\n",
        "\n",
        "Name + Age"
      ],
      "metadata": {
        "id": "LXb91fsb_hDa",
        "colab": {
          "base_uri": "https://localhost:8080/",
          "height": 36
        },
        "outputId": "e7590402-e7af-4fca-f7bd-e3368fb1673f"
      },
      "execution_count": 9,
      "outputs": [
        {
          "output_type": "execute_result",
          "data": {
            "text/plain": [
              "'Michael Jackson 35'"
            ],
            "application/vnd.google.colaboratory.intrinsic+json": {
              "type": "string"
            }
          },
          "metadata": {},
          "execution_count": 9
        }
      ]
    },
    {
      "cell_type": "markdown",
      "metadata": {
        "id": "uaHK6wsj_Lo3"
      },
      "source": [
        "<hr>"
      ]
    },
    {
      "cell_type": "markdown",
      "metadata": {
        "id": "EnN-6Ioq_Lo3"
      },
      "source": [
        "<h2 id=\"index\">Indexing (너무 너무 많이 사용됨) </h2>"
      ]
    },
    {
      "cell_type": "markdown",
      "metadata": {
        "id": "9ZOp95qM_Lo3"
      },
      "source": [
        "It is helpful to think of a string as an ordered sequence. Each element in the sequence can be accessed using an index represented by the array of numbers:  "
      ]
    },
    {
      "cell_type": "markdown",
      "metadata": {
        "id": "ypeaj_na_Lo3"
      },
      "source": [
        "<img src=\"https://s3-api.us-geo.objectstorage.softlayer.net/cf-courses-data/CognitiveClass/PY0101EN/Chapter%201/Images/StringsIndex.png\" width=\"600\" align=\"center\" />"
      ]
    },
    {
      "cell_type": "markdown",
      "metadata": {
        "id": "vf2lXJ3m_Lo4"
      },
      "source": [
        " The first index can be accessed as follows:"
      ]
    },
    {
      "cell_type": "markdown",
      "metadata": {
        "id": "hNj6Osht_Lo4"
      },
      "source": [
        "<hr/>\n",
        "<div class=\"alert alert-success alertsuccess\" style=\"margin-top: 20px\">\n",
        "[Tip]: Because indexing starts at 0, it means the first index is on the index 0.\n",
        "</div>\n",
        "<hr/>"
      ]
    },
    {
      "cell_type": "code",
      "execution_count": 10,
      "metadata": {
        "id": "n9rfKMSr_Lo4",
        "colab": {
          "base_uri": "https://localhost:8080/"
        },
        "outputId": "dfea4e81-79aa-4729-aace-dfa5537730c0"
      },
      "outputs": [
        {
          "output_type": "stream",
          "name": "stdout",
          "text": [
            "i\n"
          ]
        }
      ],
      "source": [
        "# Print the first element in the string\n",
        "\n",
        "print(Name[1])"
      ]
    },
    {
      "cell_type": "markdown",
      "metadata": {
        "id": "3gK8EuJK_Lo4"
      },
      "source": [
        " We can access index 6:"
      ]
    },
    {
      "cell_type": "code",
      "execution_count": 11,
      "metadata": {
        "id": "bbB7vwCu_Lo4",
        "colab": {
          "base_uri": "https://localhost:8080/"
        },
        "outputId": "050a1c8c-5a3b-4831-bd54-cedfef6e290f"
      },
      "outputs": [
        {
          "output_type": "stream",
          "name": "stdout",
          "text": [
            "l\n"
          ]
        }
      ],
      "source": [
        "# Print the element on index 6 in the string\n",
        "\n",
        "print(Name[6])"
      ]
    },
    {
      "cell_type": "markdown",
      "metadata": {
        "id": "VosBpNqU_Lo4"
      },
      "source": [
        "Moreover, we can access the 13th index:"
      ]
    },
    {
      "cell_type": "code",
      "execution_count": 12,
      "metadata": {
        "id": "lvbMeEIm_Lo4",
        "colab": {
          "base_uri": "https://localhost:8080/"
        },
        "outputId": "e2b64af4-3810-49ef-f170-6d7701c82d45"
      },
      "outputs": [
        {
          "output_type": "stream",
          "name": "stdout",
          "text": [
            "o\n"
          ]
        }
      ],
      "source": [
        "# Print the element on the 13th index in the string\n",
        "\n",
        "print(Name[13])"
      ]
    },
    {
      "cell_type": "markdown",
      "metadata": {
        "id": "1ir1yIGR_Lo4"
      },
      "source": [
        "<h3 id=\"neg\">Negative Indexing</h3>"
      ]
    },
    {
      "cell_type": "markdown",
      "metadata": {
        "id": "imtW3sjo_Lo4"
      },
      "source": [
        " We can also use negative indexing with strings:"
      ]
    },
    {
      "cell_type": "markdown",
      "metadata": {
        "id": "5MlqwwqA_Lo4"
      },
      "source": [
        "<img src=\"https://s3-api.us-geo.objectstorage.softlayer.net/cf-courses-data/CognitiveClass/PY0101EN/Chapter%201/Images/StringsNeg.png\" width=\"600\" align=\"center\" />"
      ]
    },
    {
      "cell_type": "markdown",
      "metadata": {
        "id": "0izGKzad_Lo4"
      },
      "source": [
        "Negative index can help us to count the element from the end of the string."
      ]
    },
    {
      "cell_type": "markdown",
      "metadata": {
        "id": "RIrX8L9p_Lo5"
      },
      "source": [
        "The last element is given by the index -1:"
      ]
    },
    {
      "cell_type": "code",
      "execution_count": 13,
      "metadata": {
        "id": "vNwA0F5N_Lo5",
        "colab": {
          "base_uri": "https://localhost:8080/"
        },
        "outputId": "8f37c114-0f3f-467a-8e1b-4bcf12d36733"
      },
      "outputs": [
        {
          "output_type": "stream",
          "name": "stdout",
          "text": [
            "M\n",
            "M\n"
          ]
        }
      ],
      "source": [
        "# Print the last element in the string\n",
        "\n",
        "print(Name[-15])\n",
        "print(Name[0]) #인덱스에 사용하는 괄호는 대괄호 []"
      ]
    },
    {
      "cell_type": "markdown",
      "metadata": {
        "id": "TtSb4fkC_Lo5"
      },
      "source": [
        " The first element can be obtained by  index -15:"
      ]
    },
    {
      "cell_type": "code",
      "execution_count": 14,
      "metadata": {
        "id": "X2Xk06ie_Lo5",
        "colab": {
          "base_uri": "https://localhost:8080/"
        },
        "outputId": "43f85de0-1c15-4e72-9a0f-64bee3940b82"
      },
      "outputs": [
        {
          "output_type": "stream",
          "name": "stdout",
          "text": [
            "M\n"
          ]
        }
      ],
      "source": [
        "# Print the first element in the string\n",
        "\n",
        "print(Name[-15])"
      ]
    },
    {
      "cell_type": "markdown",
      "metadata": {
        "id": "kR-q-IDV_Lo5"
      },
      "source": [
        "We can find the number of characters in a string by using <code>len</code>, short for length:"
      ]
    },
    {
      "cell_type": "code",
      "execution_count": 15,
      "metadata": {
        "id": "2UhXteHR_Lo5",
        "colab": {
          "base_uri": "https://localhost:8080/"
        },
        "outputId": "0843653e-a844-4ce5-cc8e-2750e7caf401"
      },
      "outputs": [
        {
          "output_type": "execute_result",
          "data": {
            "text/plain": [
              "15"
            ]
          },
          "metadata": {},
          "execution_count": 15
        }
      ],
      "source": [
        "# Find the length of string\n",
        "# 이 함수 length도 자주 사용함\n",
        "\n",
        "len(\"Michael Jackson\")"
      ]
    },
    {
      "cell_type": "markdown",
      "metadata": {
        "id": "Yjl2GMc1_Lo5"
      },
      "source": [
        "<h3 id=\"slice\">Slicing</h3>"
      ]
    },
    {
      "cell_type": "markdown",
      "metadata": {
        "id": "Mia9gSUd_Lo5"
      },
      "source": [
        "We can obtain multiple characters from a string using slicing, we can obtain the 0 to 4th and 8th to the 12th element:  "
      ]
    },
    {
      "cell_type": "markdown",
      "metadata": {
        "id": "lH8FkM_Z_Lo5"
      },
      "source": [
        "<img src=\"https://s3-api.us-geo.objectstorage.softlayer.net/cf-courses-data/CognitiveClass/PY0101EN/Chapter%201/Images/StringsSlice.png\" width=\"600\" align=\"center\" />"
      ]
    },
    {
      "cell_type": "markdown",
      "metadata": {
        "id": "cbFB_PT3_Lo5"
      },
      "source": [
        "<hr/>\n",
        "<div class=\"alert alert-success alertsuccess\" style=\"margin-top: 20px\">\n",
        "[Tip]: When taking the slice, the first number means the index (start at 0), and the second number means the index just before the next index (e.g., the index of \"k\" equals to 11, and the next index is 12, so Name[8:12] = \"Jack\")\n",
        "</div>\n",
        "<hr/>"
      ]
    },
    {
      "cell_type": "code",
      "execution_count": 20,
      "metadata": {
        "id": "qpfbWZsb_Lo6",
        "colab": {
          "base_uri": "https://localhost:8080/",
          "height": 36
        },
        "outputId": "f4df12c0-7837-4e31-be1d-ceab9c7b9e59"
      },
      "outputs": [
        {
          "output_type": "execute_result",
          "data": {
            "text/plain": [
              "'Mich'"
            ],
            "application/vnd.google.colaboratory.intrinsic+json": {
              "type": "string"
            }
          },
          "metadata": {},
          "execution_count": 20
        }
      ],
      "source": [
        "# Take the slice on variable Name with only index 0 to index 3\n",
        "# 자주 사용함..\n",
        "\n",
        "Name[0:4]"
      ]
    },
    {
      "cell_type": "code",
      "execution_count": 22,
      "metadata": {
        "id": "7wEE8woC_Lo6",
        "colab": {
          "base_uri": "https://localhost:8080/",
          "height": 36
        },
        "outputId": "9b78678e-04f9-4508-d773-aab71ab076cb"
      },
      "outputs": [
        {
          "output_type": "execute_result",
          "data": {
            "text/plain": [
              "'Jack'"
            ],
            "application/vnd.google.colaboratory.intrinsic+json": {
              "type": "string"
            }
          },
          "metadata": {},
          "execution_count": 22
        }
      ],
      "source": [
        "# Take the slice on variable Name with only index 8 to index 11\n",
        "\n",
        "Name[8:12]"
      ]
    },
    {
      "cell_type": "markdown",
      "metadata": {
        "id": "0_v2beI5_Lo6"
      },
      "source": [
        "<h3 id=\"stride\">Stride</h3>"
      ]
    },
    {
      "cell_type": "markdown",
      "metadata": {
        "id": "El2dTwQM_Lo6"
      },
      "source": [
        " We can also  input a stride value as follows, with the '2' indicating that we are selecting every second variable:"
      ]
    },
    {
      "cell_type": "markdown",
      "metadata": {
        "id": "3lHF89n2_Lo6"
      },
      "source": [
        "<img src=\"https://s3-api.us-geo.objectstorage.softlayer.net/cf-courses-data/CognitiveClass/PY0101EN/Chapter%201/Images/StringsStride.png\" width=\"600\" align=\"center\" />"
      ]
    },
    {
      "cell_type": "code",
      "execution_count": 30,
      "metadata": {
        "id": "HiUfzZWW_Lo6",
        "colab": {
          "base_uri": "https://localhost:8080/",
          "height": 36
        },
        "outputId": "a5c22ed8-c2f5-4a9a-9917-b3eac0ccf850"
      },
      "outputs": [
        {
          "output_type": "execute_result",
          "data": {
            "text/plain": [
              "'ihe ako'"
            ],
            "application/vnd.google.colaboratory.intrinsic+json": {
              "type": "string"
            }
          },
          "metadata": {},
          "execution_count": 30
        }
      ],
      "source": [
        "# Get every second element. The elments on index 1, 3, 5 ...\n",
        "\n",
        "Name[1::2]"
      ]
    },
    {
      "cell_type": "markdown",
      "metadata": {
        "id": "F6lN600a_Lo6"
      },
      "source": [
        "We can also incorporate slicing  with the stride. In this case, we select the first five elements and then use the stride:"
      ]
    },
    {
      "cell_type": "code",
      "execution_count": 25,
      "metadata": {
        "id": "BE9ENTxh_Lo6",
        "colab": {
          "base_uri": "https://localhost:8080/",
          "height": 36
        },
        "outputId": "b7482c1a-ba74-4163-f1c2-f83eb40535fd"
      },
      "outputs": [
        {
          "output_type": "execute_result",
          "data": {
            "text/plain": [
              "'Mca'"
            ],
            "application/vnd.google.colaboratory.intrinsic+json": {
              "type": "string"
            }
          },
          "metadata": {},
          "execution_count": 25
        }
      ],
      "source": [
        "# Get every second element in the range from index 0 to index 4\n",
        "\n",
        "Name[0:5:2]"
      ]
    },
    {
      "cell_type": "markdown",
      "metadata": {
        "id": "DJ1-ViKj_Lo6"
      },
      "source": [
        "<h3 id=\"concat\">Concatenate Strings</h3>"
      ]
    },
    {
      "cell_type": "markdown",
      "metadata": {
        "id": "jezR5M2x_Lo7"
      },
      "source": [
        "We can concatenate or combine strings by using the addition symbols, and the result is a new string that is a combination of both:\n"
      ]
    },
    {
      "cell_type": "code",
      "execution_count": 34,
      "metadata": {
        "id": "bWRgQd-y_Lo7",
        "colab": {
          "base_uri": "https://localhost:8080/",
          "height": 36
        },
        "outputId": "21491504-7776-47b5-92de-a768d75faff9"
      },
      "outputs": [
        {
          "output_type": "execute_result",
          "data": {
            "text/plain": [
              "'Michael Jackson is the best'"
            ],
            "application/vnd.google.colaboratory.intrinsic+json": {
              "type": "string"
            }
          },
          "metadata": {},
          "execution_count": 34
        }
      ],
      "source": [
        "# Concatenate two strings\n",
        "\n",
        "Statement = Name + \" is the best\"\n",
        "Statement"
      ]
    },
    {
      "cell_type": "markdown",
      "metadata": {
        "id": "rTB1ucJE_Lo7"
      },
      "source": [
        "To replicate values of a string we simply multiply the string by the number of times we would like to replicate it. In this case, the number is three. The result is a new string, and this new string consists of three copies of the original string:"
      ]
    },
    {
      "cell_type": "code",
      "execution_count": 35,
      "metadata": {
        "id": "SPQ79-QQ_Lo7",
        "colab": {
          "base_uri": "https://localhost:8080/",
          "height": 36
        },
        "outputId": "21866dca-a6ac-46c0-e1df-7112e377e40f"
      },
      "outputs": [
        {
          "output_type": "execute_result",
          "data": {
            "text/plain": [
              "'Michael Jackson Michael Jackson Michael Jackson '"
            ],
            "application/vnd.google.colaboratory.intrinsic+json": {
              "type": "string"
            }
          },
          "metadata": {},
          "execution_count": 35
        }
      ],
      "source": [
        "# Print the string for 3 times\n",
        "\n",
        "3 * \"Michael Jackson \""
      ]
    },
    {
      "cell_type": "markdown",
      "metadata": {
        "id": "8FXJAhU8_Lo7"
      },
      "source": [
        "You can create a new string by setting it to the original variable. Concatenated  with a new string, the result is a new string that changes from Michael Jackson to “Michael Jackson is the best\".\n"
      ]
    },
    {
      "cell_type": "code",
      "execution_count": 36,
      "metadata": {
        "id": "kvgTPCAB_Lo7",
        "colab": {
          "base_uri": "https://localhost:8080/",
          "height": 36
        },
        "outputId": "e5e219ea-435e-4c8d-8197-f89ca31aaa50"
      },
      "outputs": [
        {
          "output_type": "execute_result",
          "data": {
            "text/plain": [
              "'Michael Jackson is the best'"
            ],
            "application/vnd.google.colaboratory.intrinsic+json": {
              "type": "string"
            }
          },
          "metadata": {},
          "execution_count": 36
        }
      ],
      "source": [
        "# Concatenate strings\n",
        "\n",
        "Name = \"Michael Jackson\"\n",
        "Name = Name + \" is the best\"\n",
        "Name"
      ]
    },
    {
      "cell_type": "markdown",
      "metadata": {
        "id": "RezBOVGH_Lo7"
      },
      "source": [
        "<hr>"
      ]
    },
    {
      "cell_type": "markdown",
      "metadata": {
        "id": "XpG_ihzZ_Lo7"
      },
      "source": [
        "<h2 id=\"escape\">Escape Sequences</h2>"
      ]
    },
    {
      "cell_type": "markdown",
      "metadata": {
        "id": "rvEomesU_Lo7"
      },
      "source": [
        "Back slashes represent the beginning  of escape sequences. Escape sequences represent strings that may be difficult to input. For example, back slash \"n\" represents a new line. The output is given by a new line after the back slash \"n\" is encountered:"
      ]
    },
    {
      "cell_type": "code",
      "execution_count": 39,
      "metadata": {
        "id": "LH7FdCJH_Lo8",
        "colab": {
          "base_uri": "https://localhost:8080/"
        },
        "outputId": "70fc0b23-77f3-4d14-dd7c-89e52856a552"
      },
      "outputs": [
        {
          "output_type": "stream",
          "name": "stdout",
          "text": [
            " Michael Jackson \n",
            " is the best\n"
          ]
        }
      ],
      "source": [
        "# New line escape sequence\n",
        "\n",
        "print(\" Michael Jackson \\n is the best\" )"
      ]
    },
    {
      "cell_type": "markdown",
      "metadata": {
        "id": "CyJkEEzf_Lo8"
      },
      "source": [
        "Similarly, back slash  \"t\" represents a tab:"
      ]
    },
    {
      "cell_type": "code",
      "execution_count": 40,
      "metadata": {
        "id": "xKKpcwZF_Lo8",
        "colab": {
          "base_uri": "https://localhost:8080/"
        },
        "outputId": "bcb331a9-a4c6-4353-fe56-1686f7c65403"
      },
      "outputs": [
        {
          "output_type": "stream",
          "name": "stdout",
          "text": [
            " Michael Jackson \t is the best \n",
            "\n"
          ]
        }
      ],
      "source": [
        "# Tab escape sequence\n",
        "\n",
        "print(\" Michael Jackson \\t is the best \\n\" )"
      ]
    },
    {
      "cell_type": "markdown",
      "metadata": {
        "id": "EZnRhqUj_Lo8"
      },
      "source": [
        " If you want to place a back slash in your string, use a double back slash:"
      ]
    },
    {
      "cell_type": "code",
      "execution_count": 41,
      "metadata": {
        "id": "IiBy3gNr_Lo8",
        "colab": {
          "base_uri": "https://localhost:8080/"
        },
        "outputId": "93210d2c-2fb5-4e93-909a-13bcc0d2f348"
      },
      "outputs": [
        {
          "output_type": "stream",
          "name": "stdout",
          "text": [
            " Michael Jackson \\ is the best\n"
          ]
        }
      ],
      "source": [
        "# Include back slash in string\n",
        "\n",
        "print(\" Michael Jackson \\ is the best\" )"
      ]
    },
    {
      "cell_type": "markdown",
      "metadata": {
        "id": "0UzyVlxw_Lo8"
      },
      "source": [
        "<hr>"
      ]
    },
    {
      "cell_type": "markdown",
      "metadata": {
        "id": "-ymXj1mj_Lo8"
      },
      "source": [
        "<h2 id=\"operations\">String Operations</h2>"
      ]
    },
    {
      "cell_type": "markdown",
      "metadata": {
        "id": "gTbz8xXl_Lo8"
      },
      "source": [
        "There are many string operation methods in Python that can be used to manipulate the data. We are going to use some basic string operations on the data."
      ]
    },
    {
      "cell_type": "markdown",
      "metadata": {
        "id": "MJsa4-QB_Lo9"
      },
      "source": [
        "Let's try with the method <code>upper</code>; this method converts lower case characters to upper case characters:"
      ]
    },
    {
      "cell_type": "code",
      "execution_count": 47,
      "metadata": {
        "id": "zKUXgnmQ_Lo9",
        "colab": {
          "base_uri": "https://localhost:8080/"
        },
        "outputId": "68118c72-a0db-4f26-c1e4-524ab4759e4d"
      },
      "outputs": [
        {
          "output_type": "stream",
          "name": "stdout",
          "text": [
            "before upper: Thriller is the sixth studio album\n",
            "After upper: THRILLER IS THE SIXTH STUDIO ALBUM\n",
            "After lower: thriller is the sixth studio album\n"
          ]
        }
      ],
      "source": [
        "# Convert all the characters in string to upper case\n",
        "\n",
        "A = \"Thriller is the sixth studio album\"\n",
        "print(\"before upper:\", A)\n",
        "B = A.upper()\n",
        "#  #A라는 문자열을 모두 대문자로 바꿔라. A.upper()\n",
        "print(\"After upper:\", B)\n",
        "C = A.lower()\n",
        "print(\"After lower:\", C)"
      ]
    },
    {
      "cell_type": "markdown",
      "metadata": {
        "id": "y7XYrqU6_Lo9"
      },
      "source": [
        "The method <code>replace</code> replaces a segment of the string, i.e. a substring  with a new string. We input the part of the string we would like to change. The second argument is what we would like to exchange the segment with, and the result is a new string with the segment changed:\n"
      ]
    },
    {
      "cell_type": "code",
      "execution_count": 55,
      "metadata": {
        "id": "i3AOqtZU_Lo9",
        "colab": {
          "base_uri": "https://localhost:8080/"
        },
        "outputId": "9cedfbda-7798-44bc-ef4f-75f42890cb14"
      },
      "outputs": [
        {
          "output_type": "stream",
          "name": "stdout",
          "text": [
            "Michael Jackson is the best\n",
            "Janet Jackson is the best\n",
            "Blake Jackson is the best\n"
          ]
        }
      ],
      "source": [
        "# Replace the old substring with the new target substring is the segment has been found in the string\n",
        "\n",
        "A = \"Michael Jackson is the best\"\n",
        "B = A.replace('Michael', 'Janet')\n",
        "C = B.replace('Janet', 'Blake') #변수\n",
        "print(A)\n",
        "print(B)\n",
        "print(C)"
      ]
    },
    {
      "cell_type": "markdown",
      "metadata": {
        "id": "fzvobRb4_Lo9"
      },
      "source": [
        "The method <code>find</code> finds a sub-string. The argument is the substring you would like to find, and the output is the first index of the sequence. We can find the sub-string <code>jack</code> or <code>el<code>.  "
      ]
    },
    {
      "cell_type": "markdown",
      "metadata": {
        "id": "tjE_sEpI_Lo9"
      },
      "source": [
        "<img src=\"https://s3-api.us-geo.objectstorage.softlayer.net/cf-courses-data/CognitiveClass/PY0101EN/Chapter%201/Images/StringsFind.png\" width=\"600\" align=\"center\" />"
      ]
    },
    {
      "cell_type": "code",
      "execution_count": 56,
      "metadata": {
        "id": "AIavgjhh_Lo9",
        "colab": {
          "base_uri": "https://localhost:8080/"
        },
        "outputId": "0d65ebbb-4374-4e60-f2aa-49b9f0a3f652"
      },
      "outputs": [
        {
          "output_type": "execute_result",
          "data": {
            "text/plain": [
              "5"
            ]
          },
          "metadata": {},
          "execution_count": 56
        }
      ],
      "source": [
        "# Find the substring in the string. Only the index of the first elment of substring in string will be the output\n",
        "\n",
        "Name = \"Michael Jackson\"\n",
        "Name.find('el')"
      ]
    },
    {
      "cell_type": "code",
      "execution_count": 59,
      "metadata": {
        "id": "MIu6Yi7__Lo9",
        "colab": {
          "base_uri": "https://localhost:8080/"
        },
        "outputId": "d828f3eb-1dcd-41ed-eaa7-ae00e9c53fc0"
      },
      "outputs": [
        {
          "output_type": "execute_result",
          "data": {
            "text/plain": [
              "12"
            ]
          },
          "metadata": {},
          "execution_count": 59
        }
      ],
      "source": [
        "# Find the substring in the string.\n",
        "\n",
        "Name.find('son')"
      ]
    },
    {
      "cell_type": "markdown",
      "metadata": {
        "id": "zbLf9Au1_Lo9"
      },
      "source": [
        "If the  sub-string is not in the string then the output is a negative one. For example, the string 'Jasdfasdasdf' is not a substring:"
      ]
    },
    {
      "cell_type": "code",
      "execution_count": 60,
      "metadata": {
        "collapsed": true,
        "id": "d-iT_Rt5_Lo-",
        "colab": {
          "base_uri": "https://localhost:8080/"
        },
        "outputId": "1172c8dd-d4ea-4948-f870-8497c418a31d"
      },
      "outputs": [
        {
          "output_type": "execute_result",
          "data": {
            "text/plain": [
              "-1"
            ]
          },
          "metadata": {},
          "execution_count": 60
        }
      ],
      "source": [
        "# If cannot find the substring in the string\n",
        "\n",
        "Name.find('Jasdfasdasdf')"
      ]
    },
    {
      "cell_type": "markdown",
      "metadata": {
        "id": "qVhwWrIy_Lo-"
      },
      "source": [
        "<hr>"
      ]
    },
    {
      "cell_type": "markdown",
      "metadata": {
        "id": "lrgX3Po1_Lo-"
      },
      "source": [
        "<h2 id=\"Exercise\">Exercise Strings 1</h2>"
      ]
    },
    {
      "cell_type": "markdown",
      "metadata": {
        "id": "9f9KdwEN_Lo-"
      },
      "source": [
        "What is the value of the variable <code>A</code> after the following code is executed?"
      ]
    },
    {
      "cell_type": "code",
      "execution_count": 63,
      "metadata": {
        "collapsed": true,
        "id": "8TGPm5RN_Lo-",
        "colab": {
          "base_uri": "https://localhost:8080/",
          "height": 36
        },
        "outputId": "97833a5d-78b9-4507-cc93-f35c2c4a0185"
      },
      "outputs": [
        {
          "output_type": "execute_result",
          "data": {
            "text/plain": [
              "'1'"
            ],
            "application/vnd.google.colaboratory.intrinsic+json": {
              "type": "string"
            }
          },
          "metadata": {},
          "execution_count": 63
        }
      ],
      "source": [
        "# Write your code below and press Shift+Enter to execute\n",
        "\n",
        "A = \"1\"\n",
        "A"
      ]
    },
    {
      "cell_type": "markdown",
      "metadata": {
        "id": "1o05Qi3p_Lo-"
      },
      "source": [
        "*Double*-click <b>here</b> for the solution.\n",
        "\n",
        "<!-- Your answer is below:\n",
        "\"1\"\n",
        "-->"
      ]
    },
    {
      "cell_type": "markdown",
      "metadata": {
        "id": "XmtnRv7z_Lo-"
      },
      "source": [
        "What is the value of the variable <code>B</code> after the following code is executed?"
      ]
    },
    {
      "cell_type": "code",
      "execution_count": 66,
      "metadata": {
        "collapsed": true,
        "id": "Z9GmC15W_Lo-",
        "colab": {
          "base_uri": "https://localhost:8080/",
          "height": 36
        },
        "outputId": "7565bd1d-5881-433e-a430-00aca8a5181e"
      },
      "outputs": [
        {
          "output_type": "execute_result",
          "data": {
            "text/plain": [
              "'2'"
            ],
            "application/vnd.google.colaboratory.intrinsic+json": {
              "type": "string"
            }
          },
          "metadata": {},
          "execution_count": 66
        }
      ],
      "source": [
        "# Write your code below and press Shift+Enter to execute\n",
        "\n",
        "B = \"2\"\n",
        "B"
      ]
    },
    {
      "cell_type": "markdown",
      "metadata": {
        "id": "v5XCnEgH_Lo-"
      },
      "source": [
        "Double-click <b>here</b> for the solution.\n",
        "\n",
        "<!-- Your answer is below:\n",
        "\"2\"\n",
        "-->"
      ]
    },
    {
      "cell_type": "markdown",
      "metadata": {
        "id": "tAUOWle9_Lo_"
      },
      "source": [
        "What is the value of the variable <code>C</code> after the following code is executed?"
      ]
    },
    {
      "cell_type": "code",
      "execution_count": 65,
      "metadata": {
        "id": "jzII0Dh3_Lo_",
        "colab": {
          "base_uri": "https://localhost:8080/",
          "height": 36
        },
        "outputId": "838d326c-2bac-4cf7-ad8f-6f65bbd5e78d"
      },
      "outputs": [
        {
          "output_type": "execute_result",
          "data": {
            "text/plain": [
              "'12'"
            ],
            "application/vnd.google.colaboratory.intrinsic+json": {
              "type": "string"
            }
          },
          "metadata": {},
          "execution_count": 65
        }
      ],
      "source": [
        "# Write your code below and press Shift+Enter to execute\n",
        "\n",
        "C = A + B\n",
        "C"
      ]
    },
    {
      "cell_type": "markdown",
      "metadata": {
        "id": "kpM7nJ4Q_Lo_"
      },
      "source": [
        "Double-click <b>here</b> for the solution.\n",
        "\n",
        "<!-- Your answer is below:\n",
        "\"12\"\n",
        "-->"
      ]
    },
    {
      "cell_type": "markdown",
      "metadata": {
        "id": "EWb95qFN_Lo_"
      },
      "source": [
        "<hr>"
      ]
    },
    {
      "cell_type": "markdown",
      "metadata": {
        "id": "a4qDwwUx_Lo_"
      },
      "source": [
        "Consider the variable <code>D</code> use slicing to print out the first three elements:"
      ]
    },
    {
      "cell_type": "code",
      "execution_count": 68,
      "metadata": {
        "id": "cDP24HRe_Lo_",
        "colab": {
          "base_uri": "https://localhost:8080/"
        },
        "outputId": "67618e71-5035-41fa-9eca-d07d4dae15d8"
      },
      "outputs": [
        {
          "output_type": "stream",
          "name": "stdout",
          "text": [
            "ABCD\n"
          ]
        }
      ],
      "source": [
        "# Write your code below and press Shift+Enter to execute\n",
        "\n",
        "D = \"ABCDEFG\"\n",
        "print(D[0:4])\n"
      ]
    },
    {
      "cell_type": "markdown",
      "metadata": {
        "id": "vjbKiN9W_Lo_"
      },
      "source": [
        "Double-click <b>here</b> for the solution.\n",
        "\n",
        "<!-- Your answer is below:\n",
        "print(D[:3])\n",
        "# or\n",
        "print(D[0:3])\n",
        "-->"
      ]
    },
    {
      "cell_type": "markdown",
      "metadata": {
        "id": "k7_D-zHc_Lo_"
      },
      "source": [
        "<hr>"
      ]
    },
    {
      "cell_type": "markdown",
      "metadata": {
        "id": "4JKFWQWs_Lo_"
      },
      "source": [
        "Use a stride value of 2 to print out every second character of the string <code>E</code>:"
      ]
    },
    {
      "cell_type": "code",
      "execution_count": 69,
      "metadata": {
        "collapsed": true,
        "id": "uhzR24xg_Lo_",
        "colab": {
          "base_uri": "https://localhost:8080/"
        },
        "outputId": "283dcd27-bd9e-40fd-fdab-8420738389f6"
      },
      "outputs": [
        {
          "output_type": "stream",
          "name": "stdout",
          "text": [
            "correct\n"
          ]
        }
      ],
      "source": [
        "# Write your code below and press Shift+Enter to execute\n",
        "\n",
        "E = 'clocrkr1e1c1t'\n",
        "print(E[::2])"
      ]
    },
    {
      "cell_type": "markdown",
      "metadata": {
        "id": "VFslk5O0_Lo_"
      },
      "source": [
        "*Double*-click <b>here</b> for the solution.\n",
        "\n",
        "<!-- Your answer is below:\n",
        "print(E[::2])\n",
        "-->"
      ]
    },
    {
      "cell_type": "markdown",
      "metadata": {
        "id": "3jyLp4zT_LpA"
      },
      "source": [
        "<hr>"
      ]
    },
    {
      "cell_type": "markdown",
      "metadata": {
        "id": "ApiD63EB_LpA"
      },
      "source": [
        "Print out a backslash:"
      ]
    },
    {
      "cell_type": "code",
      "execution_count": 71,
      "metadata": {
        "id": "6OfgrTdo_LpA",
        "colab": {
          "base_uri": "https://localhost:8080/"
        },
        "outputId": "a9fd7444-7f07-4d46-c13a-f301e0aa4580"
      },
      "outputs": [
        {
          "output_type": "stream",
          "name": "stdout",
          "text": [
            "\\\n"
          ]
        }
      ],
      "source": [
        "# Write your code below and press Shift+Enter to execute\n",
        "print(\"\\\\\")"
      ]
    },
    {
      "cell_type": "markdown",
      "metadata": {
        "id": "VCi_5trc_LpA"
      },
      "source": [
        "Double-click <b>here</b> for the solution.\n",
        "<!-- Your answer is below:\n",
        "print(\"\\\\\")\n",
        "or\n",
        "print(r\" \\ \")\n",
        "-->"
      ]
    },
    {
      "cell_type": "markdown",
      "metadata": {
        "id": "0u_iOc4H_LpA"
      },
      "source": [
        "<hr>"
      ]
    },
    {
      "cell_type": "markdown",
      "metadata": {
        "id": "usUoFDWx_LpA"
      },
      "source": [
        "Convert the variable <code>F</code> to uppercase:"
      ]
    },
    {
      "cell_type": "code",
      "execution_count": 72,
      "metadata": {
        "id": "wWJWplcf_LpA",
        "colab": {
          "base_uri": "https://localhost:8080/",
          "height": 36
        },
        "outputId": "94c7bdb1-6b1e-4145-e1ac-6334dfa8ecfd"
      },
      "outputs": [
        {
          "output_type": "execute_result",
          "data": {
            "text/plain": [
              "'YOU ARE WRONG'"
            ],
            "application/vnd.google.colaboratory.intrinsic+json": {
              "type": "string"
            }
          },
          "metadata": {},
          "execution_count": 72
        }
      ],
      "source": [
        "# Write your code below and press Shift+Enter to execute\n",
        "\n",
        "F = \"You are wrong\"\n",
        "F.upper()"
      ]
    },
    {
      "cell_type": "markdown",
      "metadata": {
        "id": "fl-e1mr0_LpA"
      },
      "source": [
        "Double-click <b>here</b> for the solution.\n",
        "\n",
        "<!-- Your answer is below:\n",
        "F.upper()\n",
        "-->"
      ]
    },
    {
      "cell_type": "markdown",
      "metadata": {
        "id": "xZasMHx2_LpA"
      },
      "source": [
        "<hr>"
      ]
    },
    {
      "cell_type": "markdown",
      "metadata": {
        "id": "umixmVtH_LpA"
      },
      "source": [
        "Consider the variable <code>G</code>, and find the first index of the sub-string <code>snow</code>:"
      ]
    },
    {
      "cell_type": "code",
      "execution_count": 76,
      "metadata": {
        "id": "YNbQygft_LpA",
        "colab": {
          "base_uri": "https://localhost:8080/"
        },
        "outputId": "a3862e05-0281-4e2c-d041-7ed36abfe8e5"
      },
      "outputs": [
        {
          "output_type": "execute_result",
          "data": {
            "text/plain": [
              "95"
            ]
          },
          "metadata": {},
          "execution_count": 76
        }
      ],
      "source": [
        "# Write your code below and press Shift+Enter to execute\n",
        "\n",
        "G = \"Mary had a little lamb Little lamb, little lamb Mary had a little lamb \\\n",
        "Its fleece was white as snow And everywhere that Mary went Mary went, Mary went \\\n",
        "Everywhere that Mary went The lamb was sure to go\"\n",
        "G.find(\"snow\")"
      ]
    },
    {
      "cell_type": "markdown",
      "metadata": {
        "id": "UQ8l2fUB_LpB"
      },
      "source": [
        "**Double**-click __here__ for the solution.\n",
        "\n",
        "<!-- Your answer is below:\n",
        "G.find(\"snow\")\n",
        "-->"
      ]
    },
    {
      "cell_type": "markdown",
      "metadata": {
        "id": "j67KEnmX_LpB"
      },
      "source": [
        "In the variable <code>G</code>, replace the sub-string <code>Mary</code> with <code>Bob</code>:"
      ]
    },
    {
      "cell_type": "code",
      "execution_count": 78,
      "metadata": {
        "id": "t3ArDsom_LpB",
        "colab": {
          "base_uri": "https://localhost:8080/",
          "height": 54
        },
        "outputId": "8d6b9173-0f92-408d-e712-3e12ba7da58d"
      },
      "outputs": [
        {
          "output_type": "execute_result",
          "data": {
            "text/plain": [
              "'Bob had a little lamb Little lamb, little lamb Bob had a little lamb Its fleece was white as snow And everywhere that Bob went Bob went, Bob went Everywhere that Bob went The lamb was sure to go'"
            ],
            "application/vnd.google.colaboratory.intrinsic+json": {
              "type": "string"
            }
          },
          "metadata": {},
          "execution_count": 78
        }
      ],
      "source": [
        "# Write your code below and press Shift+Enter to execute\n",
        "G.replace(\"Mary\", \"Bob\")"
      ]
    },
    {
      "cell_type": "markdown",
      "metadata": {
        "id": "IpqiwAlH_LpB"
      },
      "source": [
        "Double-click __here__ for the solution.\n",
        "\n",
        "<!-- Your answer is below:\n",
        "G.replace(\"Mary\", \"Bob\")\n",
        "-->"
      ]
    },
    {
      "cell_type": "markdown",
      "metadata": {
        "id": "xL60yz0Q_LpB"
      },
      "source": [
        "<hr>\n",
        "<h2>The last exercise!</h2>\n",
        "<p>Congratulations, you have completed your first lesson and hands-on lab in Python. However, there is one more thing you need to do. The Data Science community encourages sharing work. The best way to share and showcase your work is to share it on GitHub. By sharing your notebook on GitHub you are not only building your reputation with fellow data scientists, but you can also show it off when applying for a job. Even though this was your first piece of work, it is never too early to start building good habits. Please submit all your exercises to Github & let the traces in our LMS, so for me to access your work.\n",
        "<hr>"
      ]
    },
    {
      "cell_type": "markdown",
      "metadata": {
        "id": "ZPAAWlAS_LpB"
      },
      "source": [
        "<hr>\n",
        "<p>Copyright &copy; 2023 RYU HOKYOUNG based on 2018 IBM Developer Skills Network. This notebook and its source code are released under the terms of the <a href=\"https://cognitiveclass.ai/mit-license/\">MIT License</a>.</p>"
      ]
    }
  ],
  "metadata": {
    "kernelspec": {
      "display_name": "Python 3",
      "language": "python",
      "name": "python3"
    },
    "language_info": {
      "codemirror_mode": {
        "name": "ipython",
        "version": 3
      },
      "file_extension": ".py",
      "mimetype": "text/x-python",
      "name": "python",
      "nbconvert_exporter": "python",
      "pygments_lexer": "ipython3",
      "version": "3.6.8"
    },
    "colab": {
      "provenance": [],
      "include_colab_link": true
    }
  },
  "nbformat": 4,
  "nbformat_minor": 0
}
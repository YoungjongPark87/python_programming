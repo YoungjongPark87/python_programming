{
  "nbformat": 4,
  "nbformat_minor": 0,
  "metadata": {
    "colab": {
      "provenance": [],
      "authorship_tag": "ABX9TyOXpzhUOnq6jdWD3y1t9gGd",
      "include_colab_link": true
    },
    "kernelspec": {
      "name": "python3",
      "display_name": "Python 3"
    },
    "language_info": {
      "name": "python"
    }
  },
  "cells": [
    {
      "cell_type": "markdown",
      "metadata": {
        "id": "view-in-github",
        "colab_type": "text"
      },
      "source": [
        "<a href=\"https://colab.research.google.com/github/YoungjongPark87/python_programming/blob/master/python_midterms.ipynb\" target=\"_parent\"><img src=\"https://colab.research.google.com/assets/colab-badge.svg\" alt=\"Open In Colab\"/></a>"
      ]
    },
    {
      "cell_type": "markdown",
      "source": [
        "[문제 1] 사용자로부터 정수를 반복적으로 입력받아 짝수와 홀수를 구분하여 출력하는 프로그램을 작성하시오.\n",
        "종료 조건: -1을 입력하면 종료\n",
        "출력 예: \"3은 홀수입니다.\", \"10은 짝수입니다.\""
      ],
      "metadata": {
        "id": "vyADl_pdYppp"
      }
    },
    {
      "cell_type": "code",
      "source": [
        "number = 0\n",
        "\n",
        "while number != -1 :\n",
        "    number = int(input(\"정수값을 입력하세요. -1을 입력하면 종료합니다 :\" ))\n",
        "    print(\"입력한 값은\",number,\"입니다\")\n",
        "\n",
        "    if number == -1:\n",
        "      print(\"프로그램을 종료합니다.\")\n",
        "    elif number % 2 == 0:\n",
        "      print(number, \"은 짝수 입니다.\")\n",
        "    else :\n",
        "      print(number, \"은 홀수 입니다.\")\n"
      ],
      "metadata": {
        "colab": {
          "base_uri": "https://localhost:8080/"
        },
        "id": "wn6B0jfrY0kw",
        "outputId": "561393ca-5454-4838-e5ad-26b50aa9c47e"
      },
      "execution_count": null,
      "outputs": [
        {
          "output_type": "stream",
          "name": "stdout",
          "text": [
            "정수값을 입력하세요. -1을 입력하면 종료합니다 :2\n",
            "입력한 값은 2 입니다\n",
            "2 은 짝수 입니다.\n",
            "정수값을 입력하세요. -1을 입력하면 종료합니다 :3\n",
            "입력한 값은 3 입니다\n",
            "3 은 홀수 입니다.\n",
            "정수값을 입력하세요. -1을 입력하면 종료합니다 :-2\n",
            "입력한 값은 -2 입니다\n",
            "-2 은 짝수 입니다.\n",
            "정수값을 입력하세요. -1을 입력하면 종료합니다 :-3\n",
            "입력한 값은 -3 입니다\n",
            "-3 은 홀수 입니다.\n",
            "정수값을 입력하세요. -1을 입력하면 종료합니다 :-1\n",
            "입력한 값은 -1 입니다\n",
            "프로그램을 종료합니다.\n"
          ]
        }
      ]
    },
    {
      "cell_type": "code",
      "source": [
        "# ChatGPT 활용 코드 작성\n",
        "def check_even_odd():\n",
        "    while True:\n",
        "        try:\n",
        "            num = int(input(\"정수를 입력하세요 (-1 입력 시 종료): \"))\n",
        "            if num == -1:\n",
        "                print(\"프로그램을 종료합니다.\")\n",
        "                break\n",
        "            print(f\"{num}은 {'짝수' if num % 2 == 0 else '홀수'}입니다.\")\n",
        "        except ValueError:\n",
        "            print(\"올바른 정수를 입력해주세요.\")\n",
        "\n",
        "check_even_odd()"
      ],
      "metadata": {
        "id": "1LUrkUSeZFGb",
        "colab": {
          "base_uri": "https://localhost:8080/"
        },
        "outputId": "3f32192f-afc8-4704-857c-2bfed251ef00"
      },
      "execution_count": null,
      "outputs": [
        {
          "output_type": "stream",
          "name": "stdout",
          "text": [
            "정수를 입력하세요 (-1 입력 시 종료): 2\n",
            "2은 짝수입니다.\n",
            "정수를 입력하세요 (-1 입력 시 종료): 3\n",
            "3은 홀수입니다.\n",
            "정수를 입력하세요 (-1 입력 시 종료): -2\n",
            "-2은 짝수입니다.\n",
            "정수를 입력하세요 (-1 입력 시 종료): -3\n",
            "-3은 홀수입니다.\n",
            "정수를 입력하세요 (-1 입력 시 종료): -1\n",
            "프로그램을 종료합니다.\n"
          ]
        }
      ]
    },
    {
      "cell_type": "markdown",
      "source": [
        "try-except로 입력 오류(문자 입력 등)도 방어함\n",
        "\n",
        "while True를 쓰지만, break를 깔끔하게 정리\n",
        "\n",
        "삼항 연산자('짝수' if num % 2 == 0 else '홀수')로 코드가 짧고 명확\n",
        "\n",
        "함수(check_even_odd)로 묶어서 확장성과 가독성을 확보\n",
        "\n",
        "출력문, 종료문 모두 친절하게 안내"
      ],
      "metadata": {
        "id": "A53D5jLXdti6"
      }
    },
    {
      "cell_type": "markdown",
      "source": [
        "[문제 2] 숫자 하나를 입력받아 해당 숫자의 구구단을 출력하는 프로그램을 작성하시오.\n",
        "잘못된 숫자를 입력하면 \"2~9 사이의 수를 입력하세요\" 출력\n",
        "종료 조건: 0을 입력하면 종료"
      ],
      "metadata": {
        "id": "LcZEo2rgfKuS"
      }
    },
    {
      "cell_type": "code",
      "source": [
        "number2 = int(input(\"2~9 사이의 수를 입력하세요. 0을 입력하면 종료합니다 :\" ))\n",
        "\n",
        "while number2 != 0 :\n",
        "    print(\"입력한 값은\",number2,\"입니다\")\n",
        "    if 2 <= number2 <= 9 :\n",
        "        for i in range(1,10):\n",
        "            print(f\"{number2} * {i} = {number2 * i}\")\n",
        "    else :\n",
        "      print(\"2~9 사이의 수를 입력하세요.\")\n",
        "\n",
        "    number2 = int(input(\"2~9 사이의 수를 입력하세요. 0을 입력하면 종료합니다 :\" ))\n",
        "\n",
        "print(\"프로그램을 종료 합니다\")\n",
        "\n"
      ],
      "metadata": {
        "colab": {
          "base_uri": "https://localhost:8080/"
        },
        "id": "qa8g034vgblC",
        "outputId": "892f5d5d-0dd8-43fd-d9a4-a5a8fcea0628"
      },
      "execution_count": null,
      "outputs": [
        {
          "output_type": "stream",
          "name": "stdout",
          "text": [
            "2~9 사이의 수를 입력하세요. 0을 입력하면 종료합니다 :2\n",
            "입력한 값은 2 입니다\n",
            "2 * 1 = 2\n",
            "2 * 2 = 4\n",
            "2 * 3 = 6\n",
            "2 * 4 = 8\n",
            "2 * 5 = 10\n",
            "2 * 6 = 12\n",
            "2 * 7 = 14\n",
            "2 * 8 = 16\n",
            "2 * 9 = 18\n",
            "2~9 사이의 수를 입력하세요. 0을 입력하면 종료합니다 :3\n",
            "입력한 값은 3 입니다\n",
            "3 * 1 = 3\n",
            "3 * 2 = 6\n",
            "3 * 3 = 9\n",
            "3 * 4 = 12\n",
            "3 * 5 = 15\n",
            "3 * 6 = 18\n",
            "3 * 7 = 21\n",
            "3 * 8 = 24\n",
            "3 * 9 = 27\n",
            "2~9 사이의 수를 입력하세요. 0을 입력하면 종료합니다 :0\n",
            "프로그램을 종료 합니다\n"
          ]
        }
      ]
    },
    {
      "cell_type": "code",
      "source": [
        "# ChatGPT 활용 코드 작성\n",
        "def multiplication_table():\n",
        "    print(\"📚 2~9 사이의 숫자를 입력하면 구구단을 출력합니다.\")\n",
        "    print(\"0을 입력하면 프로그램이 종료됩니다.\")\n",
        "\n",
        "    while True:\n",
        "        try:\n",
        "            num = int(input(\"숫자 입력 (2~9, 종료: 0): \"))\n",
        "\n",
        "            if num == 0:\n",
        "                print(\"👋 프로그램을 종료합니다.\")\n",
        "                break\n",
        "            elif 2 <= num <= 9:\n",
        "                print(f\"🔢 {num}단 출력:\")\n",
        "                for i in range(1, 10):\n",
        "                    print(f\"{num} x {i} = {num * i}\")\n",
        "            else:\n",
        "                print(\"⚠️ 2~9 사이의 수를 입력하세요.\")\n",
        "\n",
        "        except ValueError:\n",
        "            print(\"❌ 숫자만 입력하세요!\")\n",
        "\n",
        "# 프로그램 실행\n",
        "multiplication_table()"
      ],
      "metadata": {
        "id": "Dlp7gTHekWgU"
      },
      "execution_count": null,
      "outputs": []
    },
    {
      "cell_type": "markdown",
      "source": [
        "[문제 3] 학생 10명의 이름과 점수를 입력받아, 점수가 60점 이상이면 \"합격\", 아니면 \"불합격\"으로 표시하고, 전체 평균을 함께 출력하는 프로그램을 작성하시오."
      ],
      "metadata": {
        "id": "fy8aDHuEkkSL"
      }
    },
    {
      "cell_type": "code",
      "source": [
        "students = []\n",
        "scores = []\n",
        "\n",
        "for _ in range(10):\n",
        "    name = input(\"학생 이름을 입력하세요: \")\n",
        "    score = int(input(f\"{name}의 점수를 입력하세요: \"))\n",
        "    students.append((name, score))\n",
        "    scores.append(score)\n",
        "\n",
        "print(\"\\n결과:\")\n",
        "for name, score in students:\n",
        "    if score >= 60 :\n",
        "        result = \"합격\"\n",
        "    else :\n",
        "        result = \"불합격\"\n",
        "    print(f\"{name}: {score}점 ({result})\")\n",
        "\n",
        "average = sum(scores) / len(scores)\n",
        "print(f\"\\n전체 평균 점수: {average}점\")"
      ],
      "metadata": {
        "colab": {
          "base_uri": "https://localhost:8080/"
        },
        "id": "pF3PpebZlZ6x",
        "outputId": "3599770f-10fb-46f2-8375-bd59813d33cf"
      },
      "execution_count": null,
      "outputs": [
        {
          "output_type": "stream",
          "name": "stdout",
          "text": [
            "학생 이름을 입력하세요: a\n",
            "a의 점수를 입력하세요: 100\n",
            "학생 이름을 입력하세요: b\n",
            "b의 점수를 입력하세요: 0\n",
            "학생 이름을 입력하세요: \n",
            "의 점수를 입력하세요: 30\n",
            "학생 이름을 입력하세요: d\n",
            "d의 점수를 입력하세요: 50\n",
            "학생 이름을 입력하세요: e\n",
            "e의 점수를 입력하세요: 70\n",
            "학생 이름을 입력하세요: f\n",
            "f의 점수를 입력하세요: 100\n",
            "학생 이름을 입력하세요: g\n",
            "g의 점수를 입력하세요: 80\n",
            "학생 이름을 입력하세요: h\n",
            "h의 점수를 입력하세요: 40\n",
            "학생 이름을 입력하세요: i\n",
            "i의 점수를 입력하세요: 20\n",
            "학생 이름을 입력하세요: j\n",
            "j의 점수를 입력하세요: 70\n",
            "\n",
            "결과:\n",
            "a: 100점 (합격)\n",
            "b: 0점 (불합격)\n",
            ": 30점 (불합격)\n",
            "d: 50점 (불합격)\n",
            "e: 70점 (합격)\n",
            "f: 100점 (합격)\n",
            "g: 80점 (합격)\n",
            "h: 40점 (불합격)\n",
            "i: 20점 (불합격)\n",
            "j: 70점 (합격)\n",
            "\n",
            "전체 평균 점수: 56.0점\n"
          ]
        }
      ]
    },
    {
      "cell_type": "code",
      "source": [
        "# ChatGPT 활용 코드 작성\n",
        "def check_pass_fail():\n",
        "    students = []\n",
        "    total_score = 0\n",
        "    num_students = 10\n",
        "\n",
        "    print(\"📋 학생 이름과 점수를 입력하세요. (총 10명)\")\n",
        "\n",
        "    for i in range(1, num_students + 1):\n",
        "        while True:\n",
        "            name = input(f\"{i}번 학생 이름: \").strip()\n",
        "            if name:\n",
        "                break\n",
        "            print(\"⚠️ 이름을 입력하세요.\")\n",
        "\n",
        "        while True:\n",
        "            try:\n",
        "                score = int(input(f\"{name}의 점수: \"))\n",
        "                break\n",
        "            except ValueError:\n",
        "                print(\"❌ 점수는 숫자로 입력해야 합니다.\")\n",
        "\n",
        "        result = \"합격\" if score >= 60 else \"불합격\"\n",
        "        students.append((name, score, result))\n",
        "        total_score += score\n",
        "\n",
        "    print(\"\\n📊 결과:\")\n",
        "    for name, score, result in students:\n",
        "        print(f\"{name}: {score}점 - {result}\")\n",
        "\n",
        "    average = total_score / num_students\n",
        "    print(f\"\\n📈 전체 평균 점수: {average:.2f}점\")\n",
        "\n",
        "# 프로그램 실행\n",
        "check_pass_fail()"
      ],
      "metadata": {
        "id": "e06BQJYrlYem"
      },
      "execution_count": null,
      "outputs": []
    },
    {
      "cell_type": "markdown",
      "source": [
        "[문제 4] 사용자가 입력한 문자열이 다음 조건을 모두 만족하는지 확인하는 프로그램을 작성하시오.\n",
        "조건: 8자 이상, 숫자 포함, 영문 대문자 포함, 영문 소문자 포함\n",
        "조건을 모두 만족하면 \"사용 가능한 비밀번호입니다.\", 아니면 \"조건을 만족하지 않습니다.\"를 출력\n",
        "반복 입력, \"exit\" 입력 시 종료"
      ],
      "metadata": {
        "id": "Q5UXvWnepqwy"
      }
    },
    {
      "cell_type": "code",
      "source": [
        "while True:\n",
        "    password = input(\"비밀번호를 입력하세요 (종료하려면 'exit' 입력): \")\n",
        "\n",
        "    if password == 'exit':\n",
        "        print(\"프로그램을 종료합니다.\")\n",
        "        break\n",
        "\n",
        "\n",
        "    length_ok = len(password) >= 8\n",
        "    has_digit = False\n",
        "    has_upper = False\n",
        "    has_lower = False\n",
        "\n",
        "    for char in password:\n",
        "        if char.isdigit():\n",
        "            has_digit = True\n",
        "        elif char.isupper():\n",
        "            has_upper = True\n",
        "        elif char.islower():\n",
        "            has_lower = True\n",
        "\n",
        "    if length_ok and has_digit and has_upper and has_lower:\n",
        "        print(\"사용 가능한 비밀번호입니다.\")\n",
        "    else:\n",
        "        print(\"조건을 만족하지 않습니다.\")"
      ],
      "metadata": {
        "id": "_439aHLJsUXB",
        "colab": {
          "base_uri": "https://localhost:8080/"
        },
        "outputId": "b7e84fd3-7028-40a5-f785-b3f6b12790ce"
      },
      "execution_count": null,
      "outputs": [
        {
          "output_type": "stream",
          "name": "stdout",
          "text": [
            "비밀번호를 입력하세요 (종료하려면 'exit' 입력): asdasdasd\n",
            "True\n",
            "조건을 만족하지 않습니다.\n",
            "비밀번호를 입력하세요 (종료하려면 'exit' 입력): qweq\n",
            "False\n",
            "조건을 만족하지 않습니다.\n",
            "비밀번호를 입력하세요 (종료하려면 'exit' 입력): exit\n",
            "프로그램을 종료합니다.\n"
          ]
        }
      ]
    },
    {
      "cell_type": "code",
      "source": [
        "# ChatGPT 활용 코드 작성\n",
        "def is_valid_password(password):\n",
        "    if len(password) < 8:\n",
        "        return False\n",
        "    if not any(char.isdigit() for char in password):\n",
        "        return False\n",
        "    if not any(char.isupper() for char in password):\n",
        "        return False\n",
        "    if not any(char.islower() for char in password):\n",
        "        return False\n",
        "    return True\n",
        "\n",
        "while True:\n",
        "    password = input(\"비밀번호를 입력하세요 (종료하려면 'exit' 입력): \")\n",
        "\n",
        "    if password.lower() == 'exit':\n",
        "        print(\"프로그램을 종료합니다.\")\n",
        "        break\n",
        "\n",
        "    if is_valid_password(password):\n",
        "        print(\"사용 가능한 비밀번호입니다.\")\n",
        "    else:\n",
        "        print(\"조건을 만족하지 않습니다.\")"
      ],
      "metadata": {
        "id": "sMCLnydxOFnf"
      },
      "execution_count": null,
      "outputs": []
    },
    {
      "cell_type": "markdown",
      "source": [
        "[문제 5] 프로그램이 1부터 100 사이의 무작위 숫자를 생성하고, 사용자가 맞출 때까지 숫자를 입력하도록 하세요.\n",
        "입력한 숫자가 정답보다 크면 \"Down\", 작으면 \"Up\"을 출력\n",
        "정답을 맞추면 시도 횟수와 함께 \"정답입니다! 시도 횟수: 5회\" 등으로 출력\n",
        "random.randint() 함수 사용"
      ],
      "metadata": {
        "id": "axpAMQ70h_8t"
      }
    },
    {
      "cell_type": "code",
      "source": [
        "import random\n",
        "\n",
        "# 1부터 100 사이의 무작위 숫자 생성\n",
        "answer = random.randint(1, 100)\n",
        "attempts = 0  # 시도 횟수\n",
        "\n",
        "while True:\n",
        "    guess = int(input(\"숫자를 입력하세요 (1~100): \"))\n",
        "    attempts = attempts+1\n",
        "\n",
        "    if guess > answer:\n",
        "        print(\"Down\")\n",
        "    elif guess < answer:\n",
        "        print(\"Up\")\n",
        "    else:\n",
        "        print(f\"정답입니다! 시도 횟수: {attempts}회\")\n",
        "        break"
      ],
      "metadata": {
        "colab": {
          "base_uri": "https://localhost:8080/"
        },
        "id": "JDIogrX1isxX",
        "outputId": "d2c207cd-17d6-4ccc-b724-9d30d45e9585"
      },
      "execution_count": null,
      "outputs": [
        {
          "output_type": "stream",
          "name": "stdout",
          "text": [
            "숫자를 입력하세요 (1~100): 10\n",
            "Up\n",
            "숫자를 입력하세요 (1~100): 30\n",
            "Up\n",
            "숫자를 입력하세요 (1~100): 50\n",
            "Down\n",
            "숫자를 입력하세요 (1~100): 40\n",
            "Down\n",
            "숫자를 입력하세요 (1~100): 37\n",
            "Down\n",
            "숫자를 입력하세요 (1~100): 33\n",
            "Up\n",
            "숫자를 입력하세요 (1~100): 35\n",
            "Down\n",
            "숫자를 입력하세요 (1~100): 34\n",
            "정답입니다! 시도 횟수: 8회\n"
          ]
        }
      ]
    },
    {
      "cell_type": "code",
      "source": [
        "# ChatGPT 활용 코드 작성\n",
        "import random\n",
        "\n",
        "def number_guessing_game():\n",
        "    answer = random.randint(1, 100)\n",
        "    attempts = 0\n",
        "\n",
        "    print(\"🎯 1부터 100 사이의 숫자를 맞춰보세요!\")\n",
        "\n",
        "    while True:\n",
        "        try:\n",
        "            guess = int(input(\"숫자 입력 (1~100): \"))\n",
        "\n",
        "            if guess < 1 or guess > 100:\n",
        "                print(\"⚠️ 1부터 100 사이의 숫자만 입력하세요.\")\n",
        "                continue\n",
        "\n",
        "            attempts += 1\n",
        "\n",
        "            if guess > answer:\n",
        "                print(\"⬇️ Down\")\n",
        "            elif guess < answer:\n",
        "                print(\"⬆️ Up\")\n",
        "            else:\n",
        "                print(f\"🎉 정답입니다! 시도 횟수: {attempts}회\")\n",
        "                break\n",
        "\n",
        "        except ValueError:\n",
        "            print(\"❌ 숫자만 입력하세요!\")\n",
        "\n",
        "# 게임 실행\n",
        "number_guessing_game()\n"
      ],
      "metadata": {
        "id": "Lvga6ihBixGH"
      },
      "execution_count": null,
      "outputs": []
    }
  ]
}
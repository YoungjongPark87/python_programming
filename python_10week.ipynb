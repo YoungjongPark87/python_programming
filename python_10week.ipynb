{
  "nbformat": 4,
  "nbformat_minor": 0,
  "metadata": {
    "colab": {
      "provenance": [],
      "authorship_tag": "ABX9TyPfwoV/OOd5PquoYRjScmkI",
      "include_colab_link": true
    },
    "kernelspec": {
      "name": "python3",
      "display_name": "Python 3"
    },
    "language_info": {
      "name": "python"
    }
  },
  "cells": [
    {
      "cell_type": "markdown",
      "metadata": {
        "id": "view-in-github",
        "colab_type": "text"
      },
      "source": [
        "<a href=\"https://colab.research.google.com/github/YoungjongPark87/python_programming/blob/master/python_10week.ipynb\" target=\"_parent\"><img src=\"https://colab.research.google.com/assets/colab-badge.svg\" alt=\"Open In Colab\"/></a>"
      ]
    },
    {
      "cell_type": "code",
      "execution_count": 2,
      "metadata": {
        "id": "WS8PF8keirDG",
        "colab": {
          "base_uri": "https://localhost:8080/"
        },
        "outputId": "adf7037b-7836-419c-8981-b01a102d5184"
      },
      "outputs": [
        {
          "output_type": "stream",
          "name": "stdout",
          "text": [
            "3\n",
            "7\n"
          ]
        }
      ],
      "source": [
        "# P11\n",
        "\n",
        "result = 0\n",
        "\n",
        "def adder(num):\n",
        "  global result\n",
        "  result += num\n",
        "  return result\n",
        "\n",
        "print(adder(3))\n",
        "print(adder(4))\n"
      ]
    },
    {
      "cell_type": "code",
      "source": [
        "# p12\n",
        "\n",
        "result1 = 0\n",
        "result2 = 0\n",
        "\n",
        "def adder1(num):\n",
        "  global result1\n",
        "  result1 += num\n",
        "  return result1\n",
        "\n",
        "def adder2(num):\n",
        "  global result2\n",
        "  result2 +=num\n",
        "  return result2\n",
        "\n",
        "print(adder1(3))\n",
        "print(adder1(4))\n",
        "print(adder2(3))\n",
        "print(adder2(7))\n"
      ],
      "metadata": {
        "colab": {
          "base_uri": "https://localhost:8080/"
        },
        "id": "UnOBCesVg6ao",
        "outputId": "f17857c6-c8b8-4722-b240-bb944ec410e8"
      },
      "execution_count": 5,
      "outputs": [
        {
          "output_type": "stream",
          "name": "stdout",
          "text": [
            "3\n",
            "7\n",
            "3\n",
            "10\n"
          ]
        }
      ]
    },
    {
      "cell_type": "code",
      "source": [
        "# p13\n",
        "\n",
        "class Calculator:\n",
        "  def __init__(self):\n",
        "    self.result = 0\n",
        "  def adder(self, num):\n",
        "    self.result += num\n",
        "    return self.result\n",
        "\n",
        "cal1 = Calculator()\n",
        "cal2 = Calculator()\n",
        "\n",
        "print(cal1.adder(3))\n",
        "print(cal1.adder(4))\n",
        "print(cal1.adder(3))\n",
        "print(cal1.adder(7))"
      ],
      "metadata": {
        "colab": {
          "base_uri": "https://localhost:8080/"
        },
        "id": "TKCakmYKhtyp",
        "outputId": "ea7df11f-6ddf-48f3-d0d9-bdf8cd2d0958"
      },
      "execution_count": 6,
      "outputs": [
        {
          "output_type": "stream",
          "name": "stdout",
          "text": [
            "3\n",
            "7\n",
            "10\n",
            "17\n"
          ]
        }
      ]
    },
    {
      "cell_type": "code",
      "source": [
        "# P15\n",
        "\n",
        "class Service:\n",
        "  secret = \"지구는 4006년에 멸망한다.\"\n",
        "\n",
        "an = Service()\n",
        "an.secret"
      ],
      "metadata": {
        "colab": {
          "base_uri": "https://localhost:8080/",
          "height": 36
        },
        "id": "xb38MwKnifb-",
        "outputId": "0827796b-939c-4d55-d779-069d8f0f6ca7"
      },
      "execution_count": 10,
      "outputs": [
        {
          "output_type": "execute_result",
          "data": {
            "text/plain": [
              "'지구는 4006년에 멸망한다.'"
            ],
            "application/vnd.google.colaboratory.intrinsic+json": {
              "type": "string"
            }
          },
          "metadata": {},
          "execution_count": 10
        }
      ]
    },
    {
      "cell_type": "code",
      "source": [
        "# P16\n",
        "Service.secret\n",
        "Service.secret = '지구가 4006년에 멸망한다는 사실은 뻥이다.'\n",
        "print(an.secret)"
      ],
      "metadata": {
        "colab": {
          "base_uri": "https://localhost:8080/"
        },
        "id": "DIqpVpB2i1u6",
        "outputId": "39fcd66a-ebce-4db0-c3a7-506d2da4c83d"
      },
      "execution_count": 11,
      "outputs": [
        {
          "output_type": "stream",
          "name": "stdout",
          "text": [
            "지구가 4006년에 멸망한다는 사실은 뻥이다.\n"
          ]
        }
      ]
    },
    {
      "cell_type": "code",
      "source": [
        "# P17\n",
        "class Service:\n",
        "  secret = \"지구는 4006년에 멸망한다.\"\n",
        "  def sum(self, a, b):\n",
        "    result = a+b\n",
        "    print(\"%s + %s = %s이다.\" % (a, b, result))\n",
        "\n",
        "an = Service()\n",
        "an.sum(1, 1)"
      ],
      "metadata": {
        "colab": {
          "base_uri": "https://localhost:8080/"
        },
        "id": "-wcDAsBDjdoR",
        "outputId": "dd9b9b59-b936-42fb-f861-c0802d337e8f"
      },
      "execution_count": 12,
      "outputs": [
        {
          "output_type": "stream",
          "name": "stdout",
          "text": [
            "1 + 1 = 2이다.\n"
          ]
        }
      ]
    },
    {
      "cell_type": "code",
      "source": [
        "# P19\n",
        "\n",
        "class Service:\n",
        "  secret = \"지구는 4006년에 멸망한다.\"\n",
        "  def setname(self, name):\n",
        "    self.name = name\n",
        "  def sum(self, a, b):\n",
        "    result = a+b\n",
        "    print(\"%s님, %s + %s = %s이다.\" % (self.name, a, b, result))\n",
        "\n",
        "an = Service()\n",
        "an.setname(\"박달도사\")\n",
        "an.sum(1,1)"
      ],
      "metadata": {
        "colab": {
          "base_uri": "https://localhost:8080/"
        },
        "id": "cbSsizpEj6CQ",
        "outputId": "93fe6635-b256-47dd-9c11-694e80a01213"
      },
      "execution_count": 15,
      "outputs": [
        {
          "output_type": "stream",
          "name": "stdout",
          "text": [
            "박달도사님, 1 + 1 = 2이다.\n"
          ]
        }
      ]
    },
    {
      "cell_type": "code",
      "source": [
        "from re import S\n",
        "# P20\n",
        "\n",
        "kim = Service()\n",
        "park = Service()\n",
        "kim.name = \"김정보\"\n",
        "park.name = \"박융합\"\n",
        "\n",
        "print(kim.name)\n",
        "print(park.name)\n",
        "\n",
        "kim.secret = \"비밀은 없다\"\n",
        "print(park.secret)\n",
        "print(kim.secret)\n",
        "\n",
        "Service.secret"
      ],
      "metadata": {
        "colab": {
          "base_uri": "https://localhost:8080/",
          "height": 109
        },
        "id": "7Y_ahkn-kdvg",
        "outputId": "7796d10f-e12b-4577-9d99-d1151eaae4c0"
      },
      "execution_count": 17,
      "outputs": [
        {
          "output_type": "stream",
          "name": "stdout",
          "text": [
            "김정보\n",
            "박융합\n",
            "지구는 4006년에 멸망한다.\n",
            "비밀은 없다\n"
          ]
        },
        {
          "output_type": "execute_result",
          "data": {
            "text/plain": [
              "'지구는 4006년에 멸망한다.'"
            ],
            "application/vnd.google.colaboratory.intrinsic+json": {
              "type": "string"
            }
          },
          "metadata": {},
          "execution_count": 17
        }
      ]
    },
    {
      "cell_type": "code",
      "source": [
        "# P24\n",
        "\n",
        "class FourCal:\n",
        "  pass\n",
        "\n",
        "a = FourCal()\n",
        "type(a)"
      ],
      "metadata": {
        "colab": {
          "base_uri": "https://localhost:8080/"
        },
        "id": "3OEzuMzFk2Vx",
        "outputId": "f3c4da75-ef20-48b9-db3e-366f6cfa0e07"
      },
      "execution_count": 18,
      "outputs": [
        {
          "output_type": "execute_result",
          "data": {
            "text/plain": [
              "__main__.FourCal"
            ]
          },
          "metadata": {},
          "execution_count": 18
        }
      ]
    },
    {
      "cell_type": "code",
      "source": [
        "# P25\n",
        "\n",
        "class FourCal:\n",
        "  def setdata(self, first, second):\n",
        "    self.first = first\n",
        "    self.second = second\n",
        "\n",
        "a = FourCal()\n",
        "a.setdata(4, 2)\n",
        "print(a.first)\n",
        "print(a.second)"
      ],
      "metadata": {
        "colab": {
          "base_uri": "https://localhost:8080/"
        },
        "id": "ZioAwwqNlhbW",
        "outputId": "e7f14647-8e5a-4113-c6d4-3408883b95f7"
      },
      "execution_count": 19,
      "outputs": [
        {
          "output_type": "stream",
          "name": "stdout",
          "text": [
            "4\n",
            "2\n"
          ]
        }
      ]
    },
    {
      "cell_type": "code",
      "source": [
        "# p26\n",
        "\n",
        "class FourCal:\n",
        "  def setdata(self, first, second):\n",
        "    self.first = first\n",
        "    self.second = second\n",
        "  def sum(self):\n",
        "    result = self.first + self.second\n",
        "    return result\n",
        "\n",
        "a = FourCal()\n",
        "a.setdata(4, 2)\n",
        "print(a.sum())\n"
      ],
      "metadata": {
        "colab": {
          "base_uri": "https://localhost:8080/"
        },
        "id": "Gs9h5nf6l7fa",
        "outputId": "8fa2a362-5cff-4b09-99cf-9e5909b0b555"
      },
      "execution_count": 21,
      "outputs": [
        {
          "output_type": "stream",
          "name": "stdout",
          "text": [
            "6\n"
          ]
        }
      ]
    },
    {
      "cell_type": "code",
      "source": [
        "# P27\n",
        "\n",
        "class FourCal:\n",
        "  def setdata(self, first, second):\n",
        "    self.first = first\n",
        "    self.second = second\n",
        "  def sum(self):\n",
        "    result = self.first + self.second\n",
        "    return result\n",
        "  def mul(self):\n",
        "    result = self.first * self.second\n",
        "    return result\n",
        "  def sub(self):\n",
        "    result = self.first - self.second\n",
        "    return result\n",
        "  def div(self):\n",
        "    result = self.first / self.second\n",
        "    return result\n",
        "\n",
        "a = FourCal()\n",
        "b = FourCal()\n",
        "a.setdata(4, 2)\n",
        "b.setdata(3, 7)\n",
        "a.sum()\n",
        "a.mul()\n",
        "a.sub()\n",
        "a.div()\n",
        "b.sub()"
      ],
      "metadata": {
        "colab": {
          "base_uri": "https://localhost:8080/"
        },
        "id": "g6ODu9n0mlma",
        "outputId": "ea02306c-f988-4e81-d6de-91893e695eae"
      },
      "execution_count": 24,
      "outputs": [
        {
          "output_type": "execute_result",
          "data": {
            "text/plain": [
              "-4"
            ]
          },
          "metadata": {},
          "execution_count": 24
        }
      ]
    },
    {
      "cell_type": "code",
      "source": [
        "# P30\n",
        "\n",
        "import random\n",
        "\n",
        "player1_dice = []\n",
        "player2_dice = []\n",
        "\n",
        "for i in range(3):\n",
        "  player1_dice.append(random.randint(1, 6))\n",
        "  player2_dice.append(random.randint(1, 6))\n",
        "\n",
        "print(\"player 1 rolled\" + str(player1_dice))\n",
        "print(\"player 1 rolled\" + str(player1_dice))\n",
        "\n",
        "if sum(player1_dice) == sum(player2_dice):\n",
        "  print(\"draw\")\n",
        "elif sum(player1_dice) > sum(player2_dice):\n",
        "  print(\"player1 wins\")\n",
        "else:\n",
        "  print(\"player2 wins\")\n"
      ],
      "metadata": {
        "colab": {
          "base_uri": "https://localhost:8080/"
        },
        "id": "EkI-eswonYay",
        "outputId": "0551cffe-2eaf-4e07-d6e0-dd81a0f15200"
      },
      "execution_count": 26,
      "outputs": [
        {
          "output_type": "stream",
          "name": "stdout",
          "text": [
            "player 1 rolled[1, 3, 1]\n",
            "player 1 rolled[1, 3, 1]\n",
            "player2 wins\n"
          ]
        }
      ]
    },
    {
      "cell_type": "code",
      "source": [
        "# P32\n",
        "from random import randint\n",
        "\n",
        "class Player:\n",
        "  def __init__(self):\n",
        "    self.dice = []\n",
        "  def roll(self):\n",
        "    self.dice = []\n",
        "    for i in range(3):\n",
        "      self.dice.append(randint(1,6))\n",
        "  def get_dice(self):\n",
        "    return self.dice\n",
        "\n",
        "player1 = Player()\n",
        "player2 = Player()\n",
        "\n",
        "player1.roll()\n",
        "player2.roll()\n",
        "\n",
        "print(\"player1 rolled\" + str(player1.get_dice()))\n",
        "print(\"player2 rolled\" + str(player2.get_dice()))\n",
        "\n",
        "if sum(player1.get_dice()) == sum(player2.get_dice()):\n",
        "  print(\"draw\")\n",
        "elif sum(player1.get_dice()) > sum(player2.get_dice()):\n",
        "  print(\"player 1 wins\")\n",
        "else:\n",
        "  print(\"player2 wins\")"
      ],
      "metadata": {
        "colab": {
          "base_uri": "https://localhost:8080/"
        },
        "id": "vg4BltRkpRL4",
        "outputId": "2ef83a1e-fa11-4847-a6c4-0c2830faf000"
      },
      "execution_count": 27,
      "outputs": [
        {
          "output_type": "stream",
          "name": "stdout",
          "text": [
            "player1 rolled[2, 2, 1]\n",
            "player2 rolled[1, 4, 1]\n",
            "player2 wins\n"
          ]
        }
      ]
    },
    {
      "cell_type": "code",
      "source": [],
      "metadata": {
        "id": "BPpcv9JkrrV_"
      },
      "execution_count": null,
      "outputs": []
    }
  ]
}
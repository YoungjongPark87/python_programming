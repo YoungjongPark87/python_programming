{
  "nbformat": 4,
  "nbformat_minor": 0,
  "metadata": {
    "colab": {
      "provenance": [],
      "authorship_tag": "ABX9TyNL2lF/Wv6CofOmxGjdzkoi",
      "include_colab_link": true
    },
    "kernelspec": {
      "name": "python3",
      "display_name": "Python 3"
    },
    "language_info": {
      "name": "python"
    }
  },
  "cells": [
    {
      "cell_type": "markdown",
      "metadata": {
        "id": "view-in-github",
        "colab_type": "text"
      },
      "source": [
        "<a href=\"https://colab.research.google.com/github/YoungjongPark87/python_programming/blob/master/python_9week.ipynb\" target=\"_parent\"><img src=\"https://colab.research.google.com/assets/colab-badge.svg\" alt=\"Open In Colab\"/></a>"
      ]
    },
    {
      "cell_type": "code",
      "execution_count": 41,
      "metadata": {
        "id": "9fIMs44Kc0LF",
        "colab": {
          "base_uri": "https://localhost:8080/"
        },
        "outputId": "d2fc8add-fb59-479d-ef45-0e4b58bcba3a"
      },
      "outputs": [
        {
          "output_type": "execute_result",
          "data": {
            "text/plain": [
              "[1, 2, 3, 4, 5]"
            ]
          },
          "metadata": {},
          "execution_count": 41
        }
      ],
      "source": [
        "# 4P\n",
        "number_list = []\n",
        "number_list.append(1)\n",
        "number_list.append(2)\n",
        "number_list.append(3)\n",
        "number_list.append(4)\n",
        "number_list.append(5)\n",
        "\n",
        "number_list\n",
        "\n",
        "number_list = []\n",
        "for number in range(1, 6):\n",
        "  number_list.append(number)\n",
        "\n",
        "number_list\n",
        "\n",
        "number_list = list(range(1, 6))\n",
        "\n",
        "number_list\n"
      ]
    },
    {
      "cell_type": "code",
      "source": [
        "# 5P\n",
        "number_list = [number for number in range(1,6)]\n",
        "number_list\n",
        "\n",
        "number_list = [number-1 for number in range(1,6)]\n",
        "number_list\n",
        "\n",
        "a_list = [number for number in range(1,6) if number % 2 == 1]\n",
        "a_list"
      ],
      "metadata": {
        "colab": {
          "base_uri": "https://localhost:8080/"
        },
        "id": "05JF-9fTdQYI",
        "outputId": "d24e979d-f53c-4530-f3a1-5723482dc246"
      },
      "execution_count": 65,
      "outputs": [
        {
          "output_type": "execute_result",
          "data": {
            "text/plain": [
              "[1, 3, 5]"
            ]
          },
          "metadata": {},
          "execution_count": 65
        }
      ]
    },
    {
      "cell_type": "code",
      "source": [
        "# 6P\n",
        "a_list = []\n",
        "for number in range(1,6):\n",
        "  if number%2 == 1:\n",
        "    a_list.append(number)\n",
        "\n",
        "a_list"
      ],
      "metadata": {
        "colab": {
          "base_uri": "https://localhost:8080/"
        },
        "id": "PA1JY1lPeqUx",
        "outputId": "7124255a-d9c4-46e8-fbcb-b595829167fb"
      },
      "execution_count": 68,
      "outputs": [
        {
          "output_type": "execute_result",
          "data": {
            "text/plain": [
              "[1, 3, 5]"
            ]
          },
          "metadata": {},
          "execution_count": 68
        }
      ]
    },
    {
      "cell_type": "code",
      "source": [
        "# 7P\n",
        "\n",
        "sentence = ['I', 'Love', 'Python','Soooooo', 'MUCH!!!']\n",
        "sentence\n",
        "\n",
        "sentence2 = [word.lower() for word in sentence]\n",
        "sentence2\n",
        "\n",
        "sentence3 = [word for word in sentence if len(word) > 6]\n",
        "sentence3\n",
        "\n",
        "sentence4 = [(x, x ** 2, x ** 3) for x in range(10)]\n",
        "sentence4"
      ],
      "metadata": {
        "colab": {
          "base_uri": "https://localhost:8080/"
        },
        "id": "r_YqhZGKgxCL",
        "outputId": "d9e2b56c-a234-4aef-d0e7-06abaa6c30ea"
      },
      "execution_count": 72,
      "outputs": [
        {
          "output_type": "execute_result",
          "data": {
            "text/plain": [
              "[(0, 0, 0),\n",
              " (1, 1, 1),\n",
              " (2, 4, 8),\n",
              " (3, 9, 27),\n",
              " (4, 16, 64),\n",
              " (5, 25, 125),\n",
              " (6, 36, 216),\n",
              " (7, 49, 343),\n",
              " (8, 64, 512),\n",
              " (9, 81, 729)]"
            ]
          },
          "metadata": {},
          "execution_count": 72
        }
      ]
    },
    {
      "cell_type": "code",
      "source": [
        "# 8P\n",
        "\n",
        "rows = range(1,4)\n",
        "cols = range(1,3)\n",
        "for row in rows:\n",
        "  for col in cols:\n",
        "    print(row, col)\n",
        "\n",
        "rows = range(1,4)\n",
        "cols = range(1,3)\n",
        "cells = [(row, col) for row in rows for col in cols]\n",
        "for cell in cells:\n",
        "  print(cell)\n",
        "\n",
        "cels2 = [(i,j) for i in range(5) for j in range(i)]\n",
        "cels2"
      ],
      "metadata": {
        "colab": {
          "base_uri": "https://localhost:8080/"
        },
        "id": "WTsXU_Jrg9G4",
        "outputId": "249925ad-4c75-4ad8-d1d6-7c0e91c09cc7"
      },
      "execution_count": 82,
      "outputs": [
        {
          "output_type": "execute_result",
          "data": {
            "text/plain": [
              "[(1, 0),\n",
              " (2, 0),\n",
              " (2, 1),\n",
              " (3, 0),\n",
              " (3, 1),\n",
              " (3, 2),\n",
              " (4, 0),\n",
              " (4, 1),\n",
              " (4, 2),\n",
              " (4, 3)]"
            ]
          },
          "metadata": {},
          "execution_count": 82
        }
      ]
    },
    {
      "cell_type": "code",
      "source": [
        "# 9P, 10\n",
        "\n",
        "word = 'letters'\n",
        "letter_counts = {letter: word.count(letter) for letter in word}\n",
        "\n",
        "word = 'letters'\n",
        "letter_counts = {letter: word.count(letter) for letter in set(word)} #letters의 불필요 중복 제거 후 for문\n",
        "\n",
        "letter_counts"
      ],
      "metadata": {
        "colab": {
          "base_uri": "https://localhost:8080/"
        },
        "id": "vUc258sMiJXp",
        "outputId": "fc7ddd40-ab75-47dc-a154-a391386c506f"
      },
      "execution_count": 92,
      "outputs": [
        {
          "output_type": "execute_result",
          "data": {
            "text/plain": [
              "{'l': 1, 's': 1, 'r': 1, 'e': 2, 't': 2}"
            ]
          },
          "metadata": {},
          "execution_count": 92
        }
      ]
    },
    {
      "cell_type": "code",
      "source": [
        "# P11\n",
        "\n",
        "a_set = {number for number in range(1,6) if number % 3 == 1}\n",
        "a_set"
      ],
      "metadata": {
        "colab": {
          "base_uri": "https://localhost:8080/"
        },
        "id": "oL6sTlvUj0v_",
        "outputId": "a063a5ce-1102-453b-837e-d7ee875f1c9b"
      },
      "execution_count": 93,
      "outputs": [
        {
          "output_type": "execute_result",
          "data": {
            "text/plain": [
              "{1, 4}"
            ]
          },
          "metadata": {},
          "execution_count": 93
        }
      ]
    },
    {
      "cell_type": "code",
      "source": [
        "# p15\n",
        "\n",
        "def sum(a, b):\n",
        "  return a+b\n",
        "\n",
        "sum(1, 2)\n",
        "sum(1.3, 3.1)\n"
      ],
      "metadata": {
        "colab": {
          "base_uri": "https://localhost:8080/"
        },
        "id": "tGIESzl7lg8-",
        "outputId": "c2273ae1-407b-4487-dc4d-c353fe23221a"
      },
      "execution_count": 95,
      "outputs": [
        {
          "output_type": "execute_result",
          "data": {
            "text/plain": [
              "4.4"
            ]
          },
          "metadata": {},
          "execution_count": 95
        }
      ]
    },
    {
      "cell_type": "code",
      "source": [
        "# P16\n",
        "\n",
        "days = ['Monday', 'Tuesday', 'Wednesday']\n",
        "fruits = ['banana', 'orange', 'peach']\n",
        "drinks = ['coffee', 'tea', 'beer']\n",
        "desserts = ['tiramisu', 'ice cream', 'pie', 'pudding']\n",
        "for day, fruit, drink, dessert in zip(days, fruits, drinks, desserts):\n",
        "  print(day, \": drink\", drink, \"- eat\", fruit, \"- enjoy\", dessert)\n",
        ""
      ],
      "metadata": {
        "colab": {
          "base_uri": "https://localhost:8080/"
        },
        "id": "nhzvt03DnO8B",
        "outputId": "262ddf67-489c-4310-c9f4-68542e8300ad"
      },
      "execution_count": 103,
      "outputs": [
        {
          "output_type": "stream",
          "name": "stdout",
          "text": [
            "Monday : drink coffee - eat banana - enjoy tiramisu\n",
            "Tuesday : drink tea - eat orange - enjoy ice cream\n",
            "Wednesday : drink beer - eat peach - enjoy pie\n"
          ]
        }
      ]
    },
    {
      "cell_type": "code",
      "source": [
        "# p17\n",
        "english = 'Monday', 'Tuesday', 'Wednesday'\n",
        "french ='Lundi', 'Mardi','Mercredi'\n",
        "list( zip(english, french) )\n",
        "# [('Monday', 'Lundi'), ('Tuesday', 'Mardi'), ('Wednesday', 'Mercredi')]\n",
        "dict( zip(english, french) )\n",
        "# {'Monday': 'Lundi', 'Tuesday': 'Mardi', 'Wednesday': 'Mercredi'}"
      ],
      "metadata": {
        "colab": {
          "base_uri": "https://localhost:8080/"
        },
        "id": "ueqx6o5dpTTT",
        "outputId": "1dc6fd11-9ed2-458d-bb6b-ae6a21c23b3e"
      },
      "execution_count": 104,
      "outputs": [
        {
          "output_type": "execute_result",
          "data": {
            "text/plain": [
              "{'Monday': 'Lundi', 'Tuesday': 'Mardi', 'Wednesday': 'Mercredi'}"
            ]
          },
          "metadata": {},
          "execution_count": 104
        }
      ]
    },
    {
      "cell_type": "code",
      "source": [
        "# P18~19\n",
        "def menu(wine, entree, dessert):\n",
        "  return {'wine': wine, 'entree': entree, 'dessert': dessert}\n",
        "\n",
        "# menu('chardonnay', 'chicken', 'cake')\n",
        "\n",
        "menu(entree =\"beef\", dessert = \"bagel\", wine = \"bordeaux\")\n",
        "\n",
        "menu('frontenac', dessert='flan', entree='fish')\n",
        "\n",
        "\n"
      ],
      "metadata": {
        "colab": {
          "base_uri": "https://localhost:8080/"
        },
        "id": "ifDxvxqMpX6m",
        "outputId": "057ea3d9-4001-41f6-dd61-69ce802ced26"
      },
      "execution_count": 110,
      "outputs": [
        {
          "output_type": "execute_result",
          "data": {
            "text/plain": [
              "{'wine': 'frontenac', 'entree': 'fish', 'dessert': 'flan'}"
            ]
          },
          "metadata": {},
          "execution_count": 110
        }
      ]
    },
    {
      "cell_type": "code",
      "source": [
        "# P 20\n",
        "def menu(wine, entree, dessert = 'pudding'):\n",
        "  return {'wine': wine, 'entree': entree, 'dessert': dessert}\n",
        "\n",
        "# menu('chardonnay', 'chicken')\n",
        "\n",
        "menu('dunkelfelder', 'duck', 'doughnut')"
      ],
      "metadata": {
        "colab": {
          "base_uri": "https://localhost:8080/"
        },
        "id": "Sj-DZ3BKp32g",
        "outputId": "2239cee9-4169-4b75-9a31-35d056c57045"
      },
      "execution_count": 117,
      "outputs": [
        {
          "output_type": "execute_result",
          "data": {
            "text/plain": [
              "{'wine': 'dunkelfelder', 'entree': 'duck', 'dessert': 'doughnut'}"
            ]
          },
          "metadata": {},
          "execution_count": 117
        }
      ]
    },
    {
      "cell_type": "code",
      "source": [
        "# p 21\n",
        "def menu(price, wine='chardonnay', entree='chicken' , dessert='pudding'):\n",
        "  return {'price': price, 'wine': wine, 'entree': entree, 'dessert': dessert}\n",
        "\n",
        "# 가능\n",
        "# menu(100)\n",
        "# menu(price=100)\n",
        "# menu(price=120, entree='beef')\n",
        "# menu(dessert='bagel', price=110)\n",
        "# menu('eighty' , 'saint-pierre' , 'fish')\n",
        "# menu('hundred', wine='saint-pierre')\n",
        "\n",
        "# 불가\n",
        "# menu()\n",
        "# menu(price=100, \"saint-pierre\")\n",
        "# menu(100, price=120)\n",
        "# menu(main=‘cream pasta’)"
      ],
      "metadata": {
        "colab": {
          "base_uri": "https://localhost:8080/",
          "height": 110
        },
        "id": "LZQsTZ1oreaE",
        "outputId": "01aa27d8-28a1-4340-df6b-5f6c8e13fffb"
      },
      "execution_count": 139,
      "outputs": [
        {
          "output_type": "error",
          "ename": "SyntaxError",
          "evalue": "invalid character '‘' (U+2018) (<ipython-input-139-c02194ebc4e9>, line 17)",
          "traceback": [
            "\u001b[0;36m  File \u001b[0;32m\"<ipython-input-139-c02194ebc4e9>\"\u001b[0;36m, line \u001b[0;32m17\u001b[0m\n\u001b[0;31m    menu(main=‘cream pasta’)\u001b[0m\n\u001b[0m              ^\u001b[0m\n\u001b[0;31mSyntaxError\u001b[0m\u001b[0;31m:\u001b[0m invalid character '‘' (U+2018)\n"
          ]
        }
      ]
    },
    {
      "cell_type": "code",
      "source": [
        "# p23~24\n",
        "def echo(anything):\n",
        "  'echo returns its input argument'\n",
        "  return anything\n",
        "\n",
        "def print_if_true(thing, check):\n",
        "  \"\"\"Prints the first argument if a second argument is true.\n",
        "  The operation is:\n",
        "    1. Check whether the *second* argument is true.\n",
        "    2. If it is, print the *first* argument.\n",
        "  \"\"\"\n",
        "  if check:\n",
        "    print(thing)\n",
        "\n",
        "\n",
        "# help(echo)\n",
        "help(print_if_true)"
      ],
      "metadata": {
        "colab": {
          "base_uri": "https://localhost:8080/"
        },
        "id": "TeKmtIF5uJf4",
        "outputId": "95fffe49-74ac-4324-e40d-5ca57af0bbd9"
      },
      "execution_count": 144,
      "outputs": [
        {
          "output_type": "stream",
          "name": "stdout",
          "text": [
            "Help on function print_if_true in module __main__:\n",
            "\n",
            "print_if_true(thing, check)\n",
            "    Prints the first argument if a second argument is true.\n",
            "    The operation is:\n",
            "      1. Check whether the *second* argument is true.\n",
            "      2. If it is, print the *first* argument.\n",
            "\n"
          ]
        }
      ]
    },
    {
      "cell_type": "code",
      "source": [
        "\n"
      ],
      "metadata": {
        "id": "AWL0-3WzuZ3d"
      },
      "execution_count": null,
      "outputs": []
    }
  ]
}